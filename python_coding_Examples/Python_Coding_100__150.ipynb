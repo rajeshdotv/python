{
 "cells": [
  {
   "cell_type": "markdown",
   "metadata": {
    "id": "lesmw72REv9S"
   },
   "source": [
    "# 1. Python Program to Add Two Matrices\n",
    "\n",
    "In this program, you'll learn to add two matrices using Nested loop and Next list comprehension, and display it.\n"
   ]
  },
  {
   "cell_type": "markdown",
   "metadata": {
    "id": "2D2Qmgy8E6VI"
   },
   "source": [
    "In Python, we can implement a matrix as a nested list (list inside a list). We can treat each element as a row of the matrix.\n",
    "\n",
    "For example **`X = [[1, 2], [4, 5], [3, 6]]`** would represent a 3x2 matrix. First row can be selected as **`X[0]`** and the element in first row, first column can be selected as **`X[0][0]`**.\n",
    "\n",
    "We can perform matrix addition in various ways in Python. Here are a couple of them."
   ]
  },
  {
   "cell_type": "code",
   "execution_count": null,
   "metadata": {
    "id": "0VUlevJoEXsk"
   },
   "outputs": [],
   "source": [
    "# Example: add two matrices using nested loop\n",
    "\n",
    "X = [[12,9,3],\n",
    "     [4,5,6],\n",
    "     [7,8,3]]\n",
    "\n",
    "Y = [[9,8,1],\n",
    "     [6,7,3],\n",
    "     [4,5,9]]"
   ]
  },
  {
   "cell_type": "code",
   "execution_count": null,
   "metadata": {
    "colab": {
     "base_uri": "https://localhost:8080/"
    },
    "id": "bNG0HXLHFizm",
    "outputId": "22139efa-067c-41de-e4cf-169ca094a932"
   },
   "outputs": [
    {
     "data": {
      "text/plain": [
       "array([[0., 0., 0.],\n",
       "       [0., 0., 0.],\n",
       "       [0., 0., 0.]])"
      ]
     },
     "execution_count": 5,
     "metadata": {},
     "output_type": "execute_result"
    }
   ],
   "source": [
    "# creating a zer0 3*3 matrix with nump\n",
    "import numpy as np\n",
    "result = np.zeros((3,3))\n",
    "result"
   ]
  },
  {
   "cell_type": "code",
   "execution_count": null,
   "metadata": {
    "id": "puo_hxrAIUDN"
   },
   "outputs": [],
   "source": [
    "# Zero mateix by using List Comprehension\n",
    "rows, cols = 3, 3\n",
    "result = [([0]*cols) for i in range(rows)]"
   ]
  },
  {
   "cell_type": "code",
   "execution_count": null,
   "metadata": {
    "id": "dWA7_I0RyI-M"
   },
   "outputs": [],
   "source": [
    "# iterate through rows\n",
    "for i in range(len(X)):\n",
    "  # iterate through columns\n",
    "  for j in range(len(Y)):\n",
    "    result[i][j] = X[i][j] + Y[i][j]"
   ]
  },
  {
   "cell_type": "code",
   "execution_count": null,
   "metadata": {
    "colab": {
     "base_uri": "https://localhost:8080/"
    },
    "id": "olTfLvpNy48z",
    "outputId": "44092800-581f-4722-cf3c-56b831fd23c4"
   },
   "outputs": [
    {
     "data": {
      "text/plain": [
       "(3, 3)"
      ]
     },
     "execution_count": 10,
     "metadata": {},
     "output_type": "execute_result"
    }
   ],
   "source": [
    "len(X),len(Y)"
   ]
  },
  {
   "cell_type": "code",
   "execution_count": null,
   "metadata": {
    "colab": {
     "base_uri": "https://localhost:8080/"
    },
    "id": "26RP26BDy6sY",
    "outputId": "ad57d577-cae6-4076-c8af-8da2d649de80"
   },
   "outputs": [
    {
     "data": {
      "text/plain": [
       "[[21, 17, 4], [10, 12, 9], [11, 13, 12]]"
      ]
     },
     "execution_count": 11,
     "metadata": {},
     "output_type": "execute_result"
    }
   ],
   "source": [
    "result"
   ]
  },
  {
   "cell_type": "code",
   "execution_count": null,
   "metadata": {
    "colab": {
     "base_uri": "https://localhost:8080/"
    },
    "id": "zyI7805dzZri",
    "outputId": "1acb6179-5774-4c17-c2a5-82426513a267"
   },
   "outputs": [
    {
     "name": "stdout",
     "output_type": "stream",
     "text": [
      "[21, 17, 4]\n",
      "[10, 12, 9]\n",
      "[11, 13, 12]\n"
     ]
    }
   ],
   "source": [
    "for r in result:\n",
    "  print(r)"
   ]
  },
  {
   "cell_type": "markdown",
   "metadata": {
    "id": "Av4PT-lfzz5n"
   },
   "source": [
    "**Explanation:**\n",
    "    \n",
    "In this program we have used nested **`for`** loops to iterate through each row and each column. At each point, we add the corresponding elements in the two matrices and store it in the result."
   ]
  },
  {
   "cell_type": "code",
   "execution_count": null,
   "metadata": {
    "id": "R-03szYiziCn"
   },
   "outputs": [],
   "source": [
    "# Add two matrices using list comprehension\n",
    "X = [[12,9,3],\n",
    "    [4,5,6],\n",
    "    [7,8,3]]\n",
    "\n",
    "Y = [[9,8,1],\n",
    "    [6,7,3],\n",
    "    [4,5,9]]"
   ]
  },
  {
   "cell_type": "code",
   "execution_count": null,
   "metadata": {
    "id": "Z9hPPagQz_aE"
   },
   "outputs": [],
   "source": [
    "result = [[X[i][j] + Y[i][j] for j in range(len(X[0]))] for i in range(len(X))]"
   ]
  },
  {
   "cell_type": "code",
   "execution_count": null,
   "metadata": {
    "colab": {
     "base_uri": "https://localhost:8080/"
    },
    "id": "YWWwI8ga0Xbx",
    "outputId": "a58faeb3-7f11-40f4-ff8d-b0de36dc82a1"
   },
   "outputs": [
    {
     "data": {
      "text/plain": [
       "3"
      ]
     },
     "execution_count": 25,
     "metadata": {},
     "output_type": "execute_result"
    }
   ],
   "source": [
    "len(X[0])"
   ]
  },
  {
   "cell_type": "code",
   "execution_count": null,
   "metadata": {
    "colab": {
     "base_uri": "https://localhost:8080/"
    },
    "id": "wORqrRm30Yjd",
    "outputId": "adeb02c5-8d50-4711-ebe1-9ed3fb0efeef"
   },
   "outputs": [
    {
     "data": {
      "text/plain": [
       "[[21, 17, 4], [10, 12, 9], [11, 13, 12]]"
      ]
     },
     "execution_count": 26,
     "metadata": {},
     "output_type": "execute_result"
    }
   ],
   "source": [
    "result"
   ]
  },
  {
   "cell_type": "code",
   "execution_count": null,
   "metadata": {
    "colab": {
     "base_uri": "https://localhost:8080/"
    },
    "id": "jgnbDIFi1Cpn",
    "outputId": "e180f692-9795-44eb-f515-a527b3a4d068"
   },
   "outputs": [
    {
     "name": "stdout",
     "output_type": "stream",
     "text": [
      "[21, 17, 4]\n",
      "[10, 12, 9]\n",
      "[11, 13, 12]\n"
     ]
    }
   ],
   "source": [
    "for r in result:\n",
    "  print(r)"
   ]
  },
  {
   "cell_type": "markdown",
   "metadata": {
    "id": "huAsP31t1Uww"
   },
   "source": [
    "# 2. Python Program to Transpose a Matrix\n",
    "\n",
    "In this example, you will learn to transpose a matrix (which is created by using a nested list)."
   ]
  },
  {
   "cell_type": "markdown",
   "metadata": {
    "id": "2gIml5bq1ZSl"
   },
   "source": [
    "In Python, we can implement a matrix as a nested list (list inside a list). We can treat each element as a row of the matrix.\n",
    "\n",
    "For example **`X = [[1, 2], [4, 5], [3, 6]]`** would represent a 3x2 matrix. The first row can be selected as **`X[0]`**. And, the element in the first-row first column can be selected as **`X[0][0]`**.\n",
    "\n",
    "Transpose of a matrix is the interchanging of rows and columns. It is denoted as **`X'`**. The element at **`ith`** row and **`jth`** column in **`X`** will be placed at **`jth`** row and **`ith`** column in **`X'`**. So if **`X`** is a 3x2 matrix, **`X'`** will be a 2x3 matrix.\n",
    "\n",
    "Here are a couple of ways to accomplish this in Python."
   ]
  },
  {
   "cell_type": "code",
   "execution_count": null,
   "metadata": {
    "id": "I7M1kF-H1Fg0"
   },
   "outputs": [],
   "source": [
    "# Transpose a matrix using a nested loop\n",
    "X = [[12,9],\n",
    "     [7,3],\n",
    "     [5,6]]"
   ]
  },
  {
   "cell_type": "code",
   "execution_count": null,
   "metadata": {
    "colab": {
     "base_uri": "https://localhost:8080/"
    },
    "id": "1bc8GxbM1uff",
    "outputId": "acabf243-b36a-4231-ecf3-7acecbb9f8b6"
   },
   "outputs": [
    {
     "data": {
      "text/plain": [
       "[[0, 0, 0], [0, 0, 0]]"
      ]
     },
     "execution_count": 37,
     "metadata": {},
     "output_type": "execute_result"
    }
   ],
   "source": [
    "# Above is 3*2 matrix, so transpose will be 2*3 matrix\n",
    "rows = 2\n",
    "cols = 3\n",
    "result = [([0]*cols) for i in range(rows)]\n",
    "result"
   ]
  },
  {
   "cell_type": "code",
   "execution_count": null,
   "metadata": {
    "id": "xAElBooW2FOc"
   },
   "outputs": [],
   "source": [
    "# iterate through rows\n",
    "for i in range(len(X)):\n",
    "  # iterate through columns:\n",
    "  for j in range(len(X[0])):\n",
    "    result[j][i] = X[i][j]"
   ]
  },
  {
   "cell_type": "code",
   "execution_count": null,
   "metadata": {
    "colab": {
     "base_uri": "https://localhost:8080/"
    },
    "id": "cYofOYJi2kLg",
    "outputId": "3b8faf0b-785b-4286-e62a-4b16ea50f1a8"
   },
   "outputs": [
    {
     "data": {
      "text/plain": [
       "(3, 2)"
      ]
     },
     "execution_count": 34,
     "metadata": {},
     "output_type": "execute_result"
    }
   ],
   "source": [
    "len(X), len(X[0])"
   ]
  },
  {
   "cell_type": "code",
   "execution_count": null,
   "metadata": {
    "colab": {
     "base_uri": "https://localhost:8080/"
    },
    "id": "3VGsUNcc2lLf",
    "outputId": "b64e6058-c614-4311-898d-ad534ba301ab"
   },
   "outputs": [
    {
     "data": {
      "text/plain": [
       "[[12, 7, 5], [9, 3, 6]]"
      ]
     },
     "execution_count": 40,
     "metadata": {},
     "output_type": "execute_result"
    }
   ],
   "source": [
    "result"
   ]
  },
  {
   "cell_type": "code",
   "execution_count": null,
   "metadata": {
    "colab": {
     "base_uri": "https://localhost:8080/"
    },
    "id": "qkGAnqXE27Zp",
    "outputId": "d9544c21-3060-490f-a357-3fcf94f2b476"
   },
   "outputs": [
    {
     "name": "stdout",
     "output_type": "stream",
     "text": [
      "[12, 7, 5]\n",
      "[9, 3, 6]\n"
     ]
    }
   ],
   "source": [
    "for r in result:\n",
    "  print(r)"
   ]
  },
  {
   "cell_type": "markdown",
   "metadata": {
    "id": "C2KsvemU3F2g"
   },
   "source": [
    "**Explanation:**\n",
    "    \n",
    "In this program we have used nested **`for`** loops to iterate through each row and each column. At each point we place the **`X[i][j]`** element into **`result[j][i]`**."
   ]
  },
  {
   "cell_type": "code",
   "execution_count": null,
   "metadata": {
    "id": "PW1dqne62-Gb"
   },
   "outputs": [],
   "source": [
    "# transpose a matrix using list comprehension"
   ]
  },
  {
   "cell_type": "code",
   "execution_count": null,
   "metadata": {
    "id": "IQ1z8yYp3NQH"
   },
   "outputs": [],
   "source": [
    "X = [[12,9],\n",
    "     [7,3],\n",
    "     [5,6]]"
   ]
  },
  {
   "cell_type": "code",
   "execution_count": null,
   "metadata": {
    "colab": {
     "base_uri": "https://localhost:8080/"
    },
    "id": "QEhgrcI43ZbD",
    "outputId": "a2715a90-897e-4681-a401-b9079ff33db2"
   },
   "outputs": [
    {
     "data": {
      "text/plain": [
       "[[12, 7, 5], [9, 3, 6]]"
      ]
     },
     "execution_count": 46,
     "metadata": {},
     "output_type": "execute_result"
    }
   ],
   "source": [
    "result = [[X[j][i] for j in range(len(X))] for i in range(len(X[0]))]\n",
    "result"
   ]
  },
  {
   "cell_type": "code",
   "execution_count": null,
   "metadata": {
    "colab": {
     "base_uri": "https://localhost:8080/"
    },
    "id": "BjAuDO7i3k8M",
    "outputId": "a9afea37-b58b-410b-aa55-448dcac63837"
   },
   "outputs": [
    {
     "name": "stdout",
     "output_type": "stream",
     "text": [
      "[12, 7, 5]\n",
      "[9, 3, 6]\n"
     ]
    }
   ],
   "source": [
    "for r in result:\n",
    "  print(r)"
   ]
  },
  {
   "cell_type": "markdown",
   "metadata": {
    "id": "6SSgKnaw4IC6"
   },
   "source": [
    "# 3. Python Program to Multiply Two Matrices\n",
    "\n",
    "In this example, we will learn to multiply matrices using two different ways: nested loop and, nested list comprehension."
   ]
  },
  {
   "cell_type": "markdown",
   "metadata": {
    "id": "3nToEGX_4Vrv"
   },
   "source": [
    "In Python, we can implement a matrix as nested list (list inside a list).\n",
    "\n",
    "We can treat each element as a row of the matrix.\n",
    "\n",
    "For example **`X = [[1, 2], [4, 5], [3, 6]]`** would represent a 3x2 matrix.\n",
    "\n",
    "The first row can be selected as **`X[0]`**. And, the element in first row, first column can be selected as **`X[0][0]`**.\n",
    "\n",
    "Multiplication of two matrices **`X`** and **`Y`** is defined only if the number of columns in **`X`** is equal to the number of rows **`Y`**.\n",
    "\n",
    "If **`X`** is a **`n x m`** matrix and **`Y`** is a **`m x l`** matrix then, **`XY`** is defined and has the dimension **`n x l`** (but **`YX`** is not defined). Here are a couple of ways to implement matrix multiplication in Python."
   ]
  },
  {
   "cell_type": "code",
   "execution_count": null,
   "metadata": {
    "id": "VAy-QljD346l"
   },
   "outputs": [],
   "source": [
    "# Multiply 2 matrices using nested loops\n",
    "# 3x3 matrix\n",
    "X = [[12,9,3],\n",
    "    [4,5,6],\n",
    "    [7,8,3]]\n",
    "\n",
    "# 3x4 matrix\n",
    "Y = [[6,8,1,3],\n",
    "    [5,7,3,4],\n",
    "    [0,6,9,1]]\n",
    "\n",
    "# No of columns in first matric must be equal to no of rows in second matrix"
   ]
  },
  {
   "cell_type": "code",
   "execution_count": null,
   "metadata": {
    "colab": {
     "base_uri": "https://localhost:8080/"
    },
    "id": "vqSGSewQ45JN",
    "outputId": "1b1c5ce2-9619-4299-ba96-26ca44fa9ef5"
   },
   "outputs": [
    {
     "data": {
      "text/plain": [
       "[[0, 0, 0, 0], [0, 0, 0, 0], [0, 0, 0, 0]]"
      ]
     },
     "execution_count": 58,
     "metadata": {},
     "output_type": "execute_result"
    }
   ],
   "source": [
    "# result should be 3*4 matric, create a 3*4 zero matrix\n",
    "rows = 3\n",
    "cols = 4\n",
    "result = [([0]*cols) for i in range(rows)]\n",
    "result"
   ]
  },
  {
   "cell_type": "code",
   "execution_count": null,
   "metadata": {
    "colab": {
     "base_uri": "https://localhost:8080/"
    },
    "id": "MG7StoaP6zXA",
    "outputId": "ffa24520-1f79-4ca3-c01d-09459a6437e9"
   },
   "outputs": [
    {
     "data": {
      "text/plain": [
       "[[0, 0, 0, 0], [0, 0, 0, 0], [0, 0, 0, 0]]"
      ]
     },
     "execution_count": 57,
     "metadata": {},
     "output_type": "execute_result"
    }
   ],
   "source": [
    "# Initialize the result matrix with zeros\n",
    "result = [[0 for _ in range(len(Y[0]))] for _ in range(len(X))]\n",
    "result"
   ]
  },
  {
   "cell_type": "code",
   "execution_count": null,
   "metadata": {
    "id": "K44Rsgm15HvM"
   },
   "outputs": [],
   "source": [
    "# iterate through rows of X\n",
    "for i in range(len(X)):\n",
    "   # iterate through columns of Y\n",
    "   for j in range(len(Y[0])):\n",
    "       # iterate through rows of Y\n",
    "       for k in range(len(Y)):\n",
    "            result[i][j] += X[i][k] * Y[k][j]"
   ]
  },
  {
   "cell_type": "code",
   "execution_count": null,
   "metadata": {
    "colab": {
     "base_uri": "https://localhost:8080/"
    },
    "id": "rjbiSaqV6Tym",
    "outputId": "d63e1d91-4026-48e9-f1c9-0c4117f5f30e"
   },
   "outputs": [
    {
     "data": {
      "text/plain": [
       "[[117, 177, 66, 75], [49, 103, 73, 38], [82, 130, 58, 56]]"
      ]
     },
     "execution_count": 60,
     "metadata": {},
     "output_type": "execute_result"
    }
   ],
   "source": [
    "result"
   ]
  },
  {
   "cell_type": "code",
   "execution_count": null,
   "metadata": {
    "colab": {
     "base_uri": "https://localhost:8080/"
    },
    "id": "vO_mR9-a7IOQ",
    "outputId": "8d30d25a-4d6d-447d-d9d7-cdf1a8e6c07a"
   },
   "outputs": [
    {
     "name": "stdout",
     "output_type": "stream",
     "text": [
      "[117, 177, 66, 75]\n",
      "[49, 103, 73, 38]\n",
      "[82, 130, 58, 56]\n"
     ]
    }
   ],
   "source": [
    "for r in result:\n",
    "  print(r)"
   ]
  },
  {
   "cell_type": "markdown",
   "metadata": {
    "id": "hBslhECZ7nZ_"
   },
   "source": [
    "**Explanation:**\n",
    "    \n",
    "In this program we have used nested **`for`** loops to iterate through each row and each column. We accumulate the sum of products in the result.\n",
    "\n",
    "This technique is simple but computationally expensive as we increase the order of the matrix.\n",
    "\n",
    "For larger matrix operations we recommend optimized software packages like **[NumPy](http://www.numpy.org/)** which is several (in the order of 1000) times faster than the above code."
   ]
  },
  {
   "cell_type": "code",
   "execution_count": null,
   "metadata": {
    "id": "qaa6PTRB7KeJ"
   },
   "outputs": [],
   "source": [
    "# multiply matrices using list comprehension\n",
    "# 3x3 matrix\n",
    "X = [[12,9,3],\n",
    "    [4,5,6],\n",
    "    [7,8,3]]\n",
    "\n",
    "# 3x4 matrix\n",
    "Y = [[6,8,1,3],\n",
    "    [5,7,3,4],\n",
    "    [0,6,9,1]]"
   ]
  },
  {
   "cell_type": "code",
   "execution_count": null,
   "metadata": {
    "colab": {
     "base_uri": "https://localhost:8080/"
    },
    "id": "Qt1yePKI71sV",
    "outputId": "fdaa8676-af7c-4253-b4d6-5a57d1b450a7"
   },
   "outputs": [
    {
     "data": {
      "text/plain": [
       "[[117, 177, 66, 75], [49, 103, 73, 38], [82, 130, 58, 56]]"
      ]
     },
     "execution_count": 65,
     "metadata": {},
     "output_type": "execute_result"
    }
   ],
   "source": [
    "# result is 3x4\n",
    "result = [[sum(a*b for a,b in zip(X_row,Y_col)) for Y_col in zip(*Y)] for X_row in X]\n",
    "result"
   ]
  },
  {
   "cell_type": "code",
   "execution_count": null,
   "metadata": {
    "colab": {
     "base_uri": "https://localhost:8080/"
    },
    "id": "POvjvwvd8G0h",
    "outputId": "fba898f1-66e2-4fce-ee3d-c2a0f89cc976"
   },
   "outputs": [
    {
     "data": {
      "text/plain": [
       "[(6, 5, 0), (8, 7, 6), (1, 3, 9), (3, 4, 1)]"
      ]
     },
     "execution_count": 64,
     "metadata": {},
     "output_type": "execute_result"
    }
   ],
   "source": [
    "list(zip(*Y)) # zip(*Y) transposes the matrix"
   ]
  },
  {
   "cell_type": "markdown",
   "metadata": {
    "id": "nVdpNCek95Xv"
   },
   "source": [
    "zip(*Y): The expression zip(*Y) transposes the matrix Y. It takes each column of Y and groups them together. This is done by unpacking Y using the * operator and passing it to the zip function. So, zip(*Y) returns an iterator over the columns of Y."
   ]
  },
  {
   "cell_type": "markdown",
   "metadata": {
    "id": "vi-o5bGi-C6q"
   },
   "source": [
    "for Y_col in zip(*Y): This part of the list comprehension iterates over each column (Y_col) of the transposed matrix Y."
   ]
  },
  {
   "cell_type": "markdown",
   "metadata": {
    "id": "yJ6zxmLX-LbU"
   },
   "source": [
    "zip(X_row, Y_col): This expression pairs corresponding elements of the current row of X (X_row) with the current column of Y (Y_col). It creates an iterator that yields tuples containing the corresponding elements."
   ]
  },
  {
   "cell_type": "markdown",
   "metadata": {
    "id": "f_ItlEH6-Wn7"
   },
   "source": [
    "sum(a * b for a, b in zip(X_row, Y_col)): This calculates the dot product of the current row of X and the current column of Y. It uses a generator expression (a * b for a, b in zip(X_row, Y_col)) to iterate over corresponding elements of the row and column and calculate their product. Then, sum adds up all these products to compute the dot product."
   ]
  },
  {
   "cell_type": "markdown",
   "metadata": {
    "id": "VMA-Aa01-WRV"
   },
   "source": [
    "for X_row in X: This part of the list comprehension iterates over each row (X_row) of matrix X."
   ]
  },
  {
   "cell_type": "code",
   "execution_count": null,
   "metadata": {
    "colab": {
     "base_uri": "https://localhost:8080/"
    },
    "id": "nMvntTp49miX",
    "outputId": "6d392ca7-b7f5-4156-d3e1-2f96e51ec0fa"
   },
   "outputs": [
    {
     "data": {
      "text/plain": [
       "[[117, 177, 66, 75], [49, 103, 73, 38], [82, 130, 58, 56]]"
      ]
     },
     "execution_count": 66,
     "metadata": {},
     "output_type": "execute_result"
    }
   ],
   "source": [
    "[[sum(a*b for a,b in zip(X_row,Y_col)) for Y_col in zip(*Y)] for X_row in X]"
   ]
  },
  {
   "cell_type": "markdown",
   "metadata": {
    "id": "Ldm-Ld_gCsIq"
   },
   "source": [
    "# 4. Python Program to Check Whether a String is Palindrome or Not\n",
    "\n",
    "In this program. you'll learn to check whether a string is palindrome or Not"
   ]
  },
  {
   "cell_type": "markdown",
   "metadata": {
    "id": "80r-Ng5uCyYF"
   },
   "source": [
    "A palindrome is a string that is the same read forward or backward.\n",
    "\n",
    "For example, **`dad`** is the same in forward or reverse direction. Another example is **`aibohphobia`**, which literally means, an irritable fear of palindromes."
   ]
  },
  {
   "cell_type": "code",
   "execution_count": null,
   "metadata": {
    "colab": {
     "base_uri": "https://localhost:8080/",
     "height": 35
    },
    "id": "rFgYvKG-_Hhp",
    "outputId": "856f2bc4-4f82-467b-f577-b8a3cb225c38"
   },
   "outputs": [
    {
     "data": {
      "application/vnd.google.colaboratory.intrinsic+json": {
       "type": "string"
      },
      "text/plain": [
       "'aibohphobia'"
      ]
     },
     "execution_count": 95,
     "metadata": {},
     "output_type": "execute_result"
    }
   ],
   "source": [
    "my_str = 'aIbohPhoBiA'\n",
    "\n",
    "# make it suitable for caseless comparision\n",
    "my_str = my_str.casefold() # converts all to lower case\n",
    "my_str"
   ]
  },
  {
   "cell_type": "code",
   "execution_count": null,
   "metadata": {
    "id": "_YaYTlWvDP-Q"
   },
   "outputs": [],
   "source": [
    "my_str_reverse = reversed(my_str)"
   ]
  },
  {
   "cell_type": "code",
   "execution_count": null,
   "metadata": {
    "colab": {
     "base_uri": "https://localhost:8080/"
    },
    "id": "fRLk9PkoDzYu",
    "outputId": "3985c59e-0fec-4dc9-dce7-084f979d1d45"
   },
   "outputs": [
    {
     "data": {
      "text/plain": [
       "['a', 'i', 'b', 'o', 'h', 'p', 'h', 'o', 'b', 'i', 'a']"
      ]
     },
     "execution_count": 97,
     "metadata": {},
     "output_type": "execute_result"
    }
   ],
   "source": [
    "list(my_str)"
   ]
  },
  {
   "cell_type": "code",
   "execution_count": null,
   "metadata": {
    "id": "h7CscAI6EHB3"
   },
   "outputs": [],
   "source": [
    "# list(my_str_reverse)"
   ]
  },
  {
   "cell_type": "code",
   "execution_count": null,
   "metadata": {
    "colab": {
     "base_uri": "https://localhost:8080/"
    },
    "id": "JkyR7u_VEPS2",
    "outputId": "a9393ff3-4b01-47e7-d763-2a463845bb33"
   },
   "outputs": [
    {
     "name": "stdout",
     "output_type": "stream",
     "text": [
      "The String aibohphobia is Palindrome\n"
     ]
    }
   ],
   "source": [
    "if list(my_str) == list(my_str_reverse):\n",
    "  print(f\"The String {my_str} is Palindrome\")\n",
    "else:\n",
    "  print(f\"The String {my_str} is not Palindrome\")"
   ]
  },
  {
   "cell_type": "code",
   "execution_count": null,
   "metadata": {
    "id": "Msb0TPPJEmLi"
   },
   "outputs": [],
   "source": [
    "# using string method\n",
    "def check_palindrome(s):\n",
    "  if s == s[::-1]:\n",
    "    return f\"The String {s} is Palindrome\"\n",
    "  else:\n",
    "    return f\"The String {s} is not Plaindrome\""
   ]
  },
  {
   "cell_type": "code",
   "execution_count": null,
   "metadata": {
    "colab": {
     "base_uri": "https://localhost:8080/",
     "height": 35
    },
    "id": "rUJCx8ULFQtY",
    "outputId": "8100ee2d-1428-49d4-d549-65890a3483a9"
   },
   "outputs": [
    {
     "data": {
      "application/vnd.google.colaboratory.intrinsic+json": {
       "type": "string"
      },
      "text/plain": [
       "'The String aibohphobia is Palindrome'"
      ]
     },
     "execution_count": 101,
     "metadata": {},
     "output_type": "execute_result"
    }
   ],
   "source": [
    "check_palindrome(my_str)"
   ]
  },
  {
   "cell_type": "code",
   "execution_count": null,
   "metadata": {
    "colab": {
     "base_uri": "https://localhost:8080/",
     "height": 35
    },
    "id": "a_-Uupu0FTFN",
    "outputId": "7978542b-509c-4c5f-d3a0-e3af276493d8"
   },
   "outputs": [
    {
     "data": {
      "application/vnd.google.colaboratory.intrinsic+json": {
       "type": "string"
      },
      "text/plain": [
       "'The String rajesh is not Plaindrome'"
      ]
     },
     "execution_count": 102,
     "metadata": {},
     "output_type": "execute_result"
    }
   ],
   "source": [
    "check_palindrome('rajesh')"
   ]
  },
  {
   "cell_type": "code",
   "execution_count": null,
   "metadata": {
    "id": "6k8eS9Z5FW6G"
   },
   "outputs": [],
   "source": [
    "# using recursion\n",
    "def is_palindrome_recursive(s):\n",
    "  s = s.casefold()\n",
    "  if len(s) <= 1:\n",
    "    return True\n",
    "  if s[0] != s[-1]:\n",
    "    return False\n",
    "  return is_palindrome_recursive(s[1:-1])"
   ]
  },
  {
   "cell_type": "code",
   "execution_count": null,
   "metadata": {
    "colab": {
     "base_uri": "https://localhost:8080/"
    },
    "id": "QpQav_pBFjf7",
    "outputId": "907f2832-a111-42ea-ae8e-f7dd06712c36"
   },
   "outputs": [
    {
     "data": {
      "text/plain": [
       "('a', 'A')"
      ]
     },
     "execution_count": 104,
     "metadata": {},
     "output_type": "execute_result"
    }
   ],
   "source": [
    "s = 'aIbohPhoBiA'\n",
    "s[0], s[-1]"
   ]
  },
  {
   "cell_type": "code",
   "execution_count": null,
   "metadata": {
    "colab": {
     "base_uri": "https://localhost:8080/",
     "height": 35
    },
    "id": "vM2VWeIcGjob",
    "outputId": "e4ebaf62-025f-4520-9bce-3e11f0d75f7b"
   },
   "outputs": [
    {
     "data": {
      "application/vnd.google.colaboratory.intrinsic+json": {
       "type": "string"
      },
      "text/plain": [
       "'IbohPhoBi'"
      ]
     },
     "execution_count": 105,
     "metadata": {},
     "output_type": "execute_result"
    }
   ],
   "source": [
    "s[1:-1]"
   ]
  },
  {
   "cell_type": "code",
   "execution_count": null,
   "metadata": {
    "colab": {
     "base_uri": "https://localhost:8080/"
    },
    "id": "-8eYR-w6GtSN",
    "outputId": "bf325b82-b273-4f70-df73-514fd9ccc88d"
   },
   "outputs": [
    {
     "data": {
      "text/plain": [
       "True"
      ]
     },
     "execution_count": 107,
     "metadata": {},
     "output_type": "execute_result"
    }
   ],
   "source": [
    "# Test the Function\n",
    "is_palindrome_recursive(s)"
   ]
  },
  {
   "cell_type": "code",
   "execution_count": null,
   "metadata": {
    "colab": {
     "base_uri": "https://localhost:8080/"
    },
    "id": "mR9o0u81HRMK",
    "outputId": "af829770-76a3-4913-9ee0-4d138deb61d5"
   },
   "outputs": [
    {
     "data": {
      "text/plain": [
       "False"
      ]
     },
     "execution_count": 109,
     "metadata": {},
     "output_type": "execute_result"
    }
   ],
   "source": [
    "is_palindrome_recursive(\"Rajesh\")"
   ]
  },
  {
   "cell_type": "code",
   "execution_count": null,
   "metadata": {
    "id": "jrUIegGoHUXF"
   },
   "outputs": [],
   "source": [
    "# Using Iterative\n",
    "def is_palindrome_iterative(s):\n",
    "  s = s.casefold()\n",
    "  i, j = 0, len(s)-1\n",
    "  while i < j:\n",
    "    if s[i] != s[j]:\n",
    "      return False\n",
    "    i += 1\n",
    "    j -= 1\n",
    "  return True"
   ]
  },
  {
   "cell_type": "code",
   "execution_count": null,
   "metadata": {
    "colab": {
     "base_uri": "https://localhost:8080/"
    },
    "id": "QHnVgVI9H8Ri",
    "outputId": "f61009b7-d9ab-475c-a772-1eb8468047f5"
   },
   "outputs": [
    {
     "data": {
      "text/plain": [
       "True"
      ]
     },
     "execution_count": 116,
     "metadata": {},
     "output_type": "execute_result"
    }
   ],
   "source": [
    "# Test the function\n",
    "is_palindrome_iterative(s)"
   ]
  },
  {
   "cell_type": "code",
   "execution_count": null,
   "metadata": {
    "colab": {
     "base_uri": "https://localhost:8080/"
    },
    "id": "svih-9UCH_2E",
    "outputId": "1d242152-b4cb-4515-897f-379757bf0a6b"
   },
   "outputs": [
    {
     "data": {
      "text/plain": [
       "False"
      ]
     },
     "execution_count": 117,
     "metadata": {},
     "output_type": "execute_result"
    }
   ],
   "source": [
    "is_palindrome_iterative(\"Rajesh\")"
   ]
  },
  {
   "cell_type": "code",
   "execution_count": null,
   "metadata": {
    "id": "VD-B1Qa5IEwT"
   },
   "outputs": [],
   "source": [
    "# Check if Number is Plaindrome or not\n",
    "n = 123321"
   ]
  },
  {
   "cell_type": "code",
   "execution_count": null,
   "metadata": {
    "colab": {
     "base_uri": "https://localhost:8080/"
    },
    "id": "EHxJn4pULRKP",
    "outputId": "6dc8aa28-0f0b-4912-a7a4-5829cc7f40c5"
   },
   "outputs": [
    {
     "data": {
      "text/plain": [
       "1"
      ]
     },
     "execution_count": 120,
     "metadata": {},
     "output_type": "execute_result"
    }
   ],
   "source": [
    "12321 % 10 # We will get last number"
   ]
  },
  {
   "cell_type": "code",
   "execution_count": null,
   "metadata": {
    "colab": {
     "base_uri": "https://localhost:8080/"
    },
    "id": "Sx19nkNeLeG3",
    "outputId": "e659f997-1ad5-42eb-a8ac-06e7702a6c0b"
   },
   "outputs": [
    {
     "data": {
      "text/plain": [
       "12332"
      ]
     },
     "execution_count": 121,
     "metadata": {},
     "output_type": "execute_result"
    }
   ],
   "source": [
    "123321 // 10 # Except last number we will get number"
   ]
  },
  {
   "cell_type": "code",
   "execution_count": null,
   "metadata": {
    "colab": {
     "base_uri": "https://localhost:8080/"
    },
    "id": "tac9lmT4LjY9",
    "outputId": "b7740385-a81c-454b-f0db-700077849abc"
   },
   "outputs": [
    {
     "data": {
      "text/plain": [
       "4"
      ]
     },
     "execution_count": 122,
     "metadata": {},
     "output_type": "execute_result"
    }
   ],
   "source": [
    "45674 % 10"
   ]
  },
  {
   "cell_type": "code",
   "execution_count": null,
   "metadata": {
    "colab": {
     "base_uri": "https://localhost:8080/"
    },
    "id": "wdVgcaxxLtj8",
    "outputId": "a3a08d53-5d11-4a39-f52d-7e3ea8bfef15"
   },
   "outputs": [
    {
     "data": {
      "text/plain": [
       "4567"
      ]
     },
     "execution_count": 123,
     "metadata": {},
     "output_type": "execute_result"
    }
   ],
   "source": [
    "45674 // 10"
   ]
  },
  {
   "cell_type": "code",
   "execution_count": null,
   "metadata": {
    "id": "-Z0KuyMxLwDq"
   },
   "outputs": [],
   "source": [
    "n = 123321\n",
    "temp = n\n",
    "reverse = 0"
   ]
  },
  {
   "cell_type": "code",
   "execution_count": null,
   "metadata": {
    "id": "iqmw1zHCL4CC"
   },
   "outputs": [],
   "source": [
    "while temp > 0:\n",
    "  remainder = temp % 10 # Gives the last number\n",
    "  reverse = (reverse * 10) + remainder\n",
    "  temp = temp // 10 # Gives number except last number"
   ]
  },
  {
   "cell_type": "code",
   "execution_count": null,
   "metadata": {
    "colab": {
     "base_uri": "https://localhost:8080/"
    },
    "id": "uJhia22TMPFU",
    "outputId": "870f46b9-9d50-4ab7-d7d5-5314640d55d9"
   },
   "outputs": [
    {
     "data": {
      "text/plain": [
       "123321"
      ]
     },
     "execution_count": 126,
     "metadata": {},
     "output_type": "execute_result"
    }
   ],
   "source": [
    "reverse"
   ]
  },
  {
   "cell_type": "code",
   "execution_count": null,
   "metadata": {
    "colab": {
     "base_uri": "https://localhost:8080/"
    },
    "id": "DQO0TLOwMQN-",
    "outputId": "bdee3cef-e15c-457c-eacc-d3062f2848c3"
   },
   "outputs": [
    {
     "name": "stdout",
     "output_type": "stream",
     "text": [
      "String is Palindrome\n"
     ]
    }
   ],
   "source": [
    "if n == reverse:\n",
    "  print(\"String is Palindrome\")\n",
    "else:\n",
    "  print(\"String is not Palindrome\")"
   ]
  },
  {
   "cell_type": "markdown",
   "metadata": {
    "id": "f8HyYKijdgcc"
   },
   "source": [
    "# 5. Python Program to Remove Punctuations From a String\n",
    "\n",
    "This program removes all punctuations from a string. We will check each character of the string using for loop. If the character is a punctuation, empty string is assigned to it."
   ]
  },
  {
   "cell_type": "markdown",
   "metadata": {
    "id": "7uMvgoBmd4j_"
   },
   "source": [
    "Sometimes, we may wish to break a sentence into a list of words.\n",
    "\n",
    "In such cases, we may first want to clean up the string and remove all the punctuation marks. For example."
   ]
  },
  {
   "cell_type": "code",
   "execution_count": null,
   "metadata": {
    "colab": {
     "base_uri": "https://localhost:8080/",
     "height": 35
    },
    "id": "Pc7eMc5lNdJx",
    "outputId": "91a79f83-1fc5-479f-df54-f96b374ff405"
   },
   "outputs": [
    {
     "data": {
      "application/vnd.google.colaboratory.intrinsic+json": {
       "type": "string"
      },
      "text/plain": [
       "'!\"#$%&\\'()*+,-./:;<=>?@[\\\\]^_`{|}~'"
      ]
     },
     "execution_count": 2,
     "metadata": {},
     "output_type": "execute_result"
    }
   ],
   "source": [
    "punctuations = string.punctuation\n",
    "punctuations"
   ]
  },
  {
   "cell_type": "code",
   "execution_count": null,
   "metadata": {
    "id": "wazlxeHLcvFb"
   },
   "outputs": [],
   "source": [
    "my_str = \"Hello!!!, how are you? -Hope doing well.\""
   ]
  },
  {
   "cell_type": "code",
   "execution_count": null,
   "metadata": {
    "id": "6X6Dv9IVeFoL"
   },
   "outputs": [],
   "source": [
    "# remove punctuations from above string\n",
    "my_str_clean = \"\"\n",
    "for char in my_str:\n",
    "  if char not in punctuations:\n",
    "    my_str_clean += char"
   ]
  },
  {
   "cell_type": "code",
   "execution_count": null,
   "metadata": {
    "colab": {
     "base_uri": "https://localhost:8080/",
     "height": 35
    },
    "id": "Lysv4KRveR6H",
    "outputId": "407c7a6c-eec6-4450-d0d2-10c68beaf6b7"
   },
   "outputs": [
    {
     "data": {
      "application/vnd.google.colaboratory.intrinsic+json": {
       "type": "string"
      },
      "text/plain": [
       "'Hello how are you Hope doing well'"
      ]
     },
     "execution_count": 6,
     "metadata": {},
     "output_type": "execute_result"
    }
   ],
   "source": [
    "my_str_clean"
   ]
  },
  {
   "cell_type": "code",
   "execution_count": null,
   "metadata": {
    "colab": {
     "base_uri": "https://localhost:8080/",
     "height": 35
    },
    "id": "yQxVj8Urecx3",
    "outputId": "60242cf7-0411-40eb-9f34-2d5d8984773e"
   },
   "outputs": [
    {
     "data": {
      "application/vnd.google.colaboratory.intrinsic+json": {
       "type": "string"
      },
      "text/plain": [
       "'Hello how are you Hope doing well'"
      ]
     },
     "execution_count": 10,
     "metadata": {},
     "output_type": "execute_result"
    }
   ],
   "source": [
    "# Using List comprehension\n",
    "my_str_clean = ''.join([char for char in my_str if char not in punctuations])\n",
    "my_str_clean"
   ]
  },
  {
   "cell_type": "code",
   "execution_count": null,
   "metadata": {
    "id": "BZG4KQR6ev30"
   },
   "outputs": [],
   "source": [
    "# using string.translate() and string.maketrans()\n",
    "import string\n",
    "def remove_punctuation_translate(text):\n",
    "  translator = str.maketrans('','',string.punctuation)\n",
    "  return text.translate(translator)"
   ]
  },
  {
   "cell_type": "code",
   "execution_count": null,
   "metadata": {
    "colab": {
     "base_uri": "https://localhost:8080/",
     "height": 35
    },
    "id": "Lr5n9N0Wf_4O",
    "outputId": "0992f61a-5346-474f-b80a-effe9a6ac3cb"
   },
   "outputs": [
    {
     "data": {
      "application/vnd.google.colaboratory.intrinsic+json": {
       "type": "string"
      },
      "text/plain": [
       "'Hello how are you Hope doing well'"
      ]
     },
     "execution_count": 14,
     "metadata": {},
     "output_type": "execute_result"
    }
   ],
   "source": [
    "remove_punctuation_translate(my_str)"
   ]
  },
  {
   "cell_type": "code",
   "execution_count": null,
   "metadata": {
    "id": "J6zxX69tgCUd"
   },
   "outputs": [],
   "source": [
    "# using string.replace()\n",
    "def remove_punctuation_replace(text):\n",
    "  for punctuation in string.punctuation:\n",
    "    text = text.replace(punctuation, '')\n",
    "  return text"
   ]
  },
  {
   "cell_type": "code",
   "execution_count": null,
   "metadata": {
    "colab": {
     "base_uri": "https://localhost:8080/",
     "height": 35
    },
    "id": "KdKOrcT2gbgO",
    "outputId": "6e384a5b-92e6-45c5-c40b-ae067c740f68"
   },
   "outputs": [
    {
     "data": {
      "application/vnd.google.colaboratory.intrinsic+json": {
       "type": "string"
      },
      "text/plain": [
       "'Hello how are you Hope doing well'"
      ]
     },
     "execution_count": 18,
     "metadata": {},
     "output_type": "execute_result"
    }
   ],
   "source": [
    "remove_punctuation_replace(my_str)"
   ]
  },
  {
   "cell_type": "code",
   "execution_count": null,
   "metadata": {
    "id": "xCIxLERcgd6G"
   },
   "outputs": [],
   "source": [
    "# using regex\n",
    "import re\n",
    "\n",
    "def remove_punctuation_regex(text):\n",
    "    text = re.sub(r'[^\\w\\s]', '', text)\n",
    "    return text"
   ]
  },
  {
   "cell_type": "code",
   "execution_count": null,
   "metadata": {
    "colab": {
     "base_uri": "https://localhost:8080/",
     "height": 35
    },
    "id": "gRQ0Z_beipcA",
    "outputId": "4d5ac2cd-7018-479e-affa-929b095bbb2c"
   },
   "outputs": [
    {
     "data": {
      "application/vnd.google.colaboratory.intrinsic+json": {
       "type": "string"
      },
      "text/plain": [
       "'Hello how are you Hope doing well'"
      ]
     },
     "execution_count": 24,
     "metadata": {},
     "output_type": "execute_result"
    }
   ],
   "source": [
    "remove_punctuation_regex(my_str)"
   ]
  },
  {
   "cell_type": "code",
   "execution_count": null,
   "metadata": {
    "id": "-Jo-RMULjb08"
   },
   "outputs": [],
   "source": [
    "# using filter\n",
    "def remove_punctuation_filter(text):\n",
    "  return ''.join(filter(lambda x: x.isalnum() or x.isspace(), text))"
   ]
  },
  {
   "cell_type": "code",
   "execution_count": null,
   "metadata": {
    "colab": {
     "base_uri": "https://localhost:8080/",
     "height": 35
    },
    "id": "wkJSdAOJj174",
    "outputId": "f0b2c593-3343-44ef-ecb3-4d3c33f8690a"
   },
   "outputs": [
    {
     "data": {
      "application/vnd.google.colaboratory.intrinsic+json": {
       "type": "string"
      },
      "text/plain": [
       "'Hello how are you Hope doing well'"
      ]
     },
     "execution_count": 30,
     "metadata": {},
     "output_type": "execute_result"
    }
   ],
   "source": [
    "remove_punctuation_filter(my_str)"
   ]
  },
  {
   "cell_type": "code",
   "execution_count": null,
   "metadata": {
    "id": "gNYAM_B1kKdv"
   },
   "outputs": [],
   "source": [
    "def remove_pun(text):\n",
    "  return ''.join(filter(lambda x: x not in string.punctuation, text))"
   ]
  },
  {
   "cell_type": "code",
   "execution_count": null,
   "metadata": {
    "colab": {
     "base_uri": "https://localhost:8080/",
     "height": 35
    },
    "id": "j7Nzn04gkW4W",
    "outputId": "3b74f068-325e-4ff2-e303-76921823a026"
   },
   "outputs": [
    {
     "data": {
      "application/vnd.google.colaboratory.intrinsic+json": {
       "type": "string"
      },
      "text/plain": [
       "'Hello how are you Hope doing well'"
      ]
     },
     "execution_count": 33,
     "metadata": {},
     "output_type": "execute_result"
    }
   ],
   "source": [
    "remove_pun(my_str)"
   ]
  },
  {
   "cell_type": "markdown",
   "metadata": {
    "id": "ah85F8a_l9S8"
   },
   "source": [
    "# 6. Python Program to Sort Words in Alphabetic Order\n",
    "\n",
    "In this program, you'll learn to sort the words in alphabetic order using for loop and display it."
   ]
  },
  {
   "cell_type": "markdown",
   "metadata": {
    "id": "h4xLxHv1mCtJ"
   },
   "source": [
    "In this example, we illustrate how words can be sorted lexicographically (alphabetic order)."
   ]
  },
  {
   "cell_type": "code",
   "execution_count": null,
   "metadata": {
    "id": "bBAp7BPzkfyl"
   },
   "outputs": [],
   "source": [
    "my_str = \"The quick brown fox jumps over the lazy dog\""
   ]
  },
  {
   "cell_type": "code",
   "execution_count": null,
   "metadata": {
    "colab": {
     "base_uri": "https://localhost:8080/"
    },
    "id": "76TnPMUimILd",
    "outputId": "d0d280c3-bbe9-46a0-81a5-83d77612849e"
   },
   "outputs": [
    {
     "data": {
      "text/plain": [
       "['the', 'quick', 'brown', 'fox', 'jumps', 'over', 'the', 'lazy', 'dog']"
      ]
     },
     "execution_count": 40,
     "metadata": {},
     "output_type": "execute_result"
    }
   ],
   "source": [
    "my_str_sort = [word.casefold() for word in my_str.split()]\n",
    "my_str_sort"
   ]
  },
  {
   "cell_type": "code",
   "execution_count": null,
   "metadata": {
    "id": "SbPP9Z-lmc41"
   },
   "outputs": [],
   "source": [
    "my_str_sort.sort()"
   ]
  },
  {
   "cell_type": "code",
   "execution_count": null,
   "metadata": {
    "colab": {
     "base_uri": "https://localhost:8080/"
    },
    "id": "vRTwremLmfpf",
    "outputId": "7b992a02-1eec-49a3-95c6-98741042168d"
   },
   "outputs": [
    {
     "data": {
      "text/plain": [
       "['brown', 'dog', 'fox', 'jumps', 'lazy', 'over', 'quick', 'the', 'the']"
      ]
     },
     "execution_count": 42,
     "metadata": {},
     "output_type": "execute_result"
    }
   ],
   "source": [
    "my_str_sort"
   ]
  },
  {
   "cell_type": "code",
   "execution_count": null,
   "metadata": {
    "colab": {
     "base_uri": "https://localhost:8080/"
    },
    "id": "zUa2NOxgmk6l",
    "outputId": "29753db6-cbe4-4169-8d03-1b785e3c175f"
   },
   "outputs": [
    {
     "data": {
      "text/plain": [
       "['brown', 'dog', 'fox', 'jumps', 'lazy', 'over', 'quick', 'the', 'the']"
      ]
     },
     "execution_count": 43,
     "metadata": {},
     "output_type": "execute_result"
    }
   ],
   "source": [
    "# using sorted\n",
    "sorted([word.casefold() for word in my_str.split()])"
   ]
  },
  {
   "cell_type": "code",
   "execution_count": null,
   "metadata": {
    "colab": {
     "base_uri": "https://localhost:8080/"
    },
    "id": "E_XPIIAFnY9-",
    "outputId": "8986ce12-8143-4389-ab4f-1fb01f8a97d6"
   },
   "outputs": [
    {
     "data": {
      "text/plain": [
       "['brown', 'dog', 'fox', 'jumps', 'lazy', 'over', 'quick', 'The', 'the']"
      ]
     },
     "execution_count": 44,
     "metadata": {},
     "output_type": "execute_result"
    }
   ],
   "source": [
    "# using sorted and lambda\n",
    "sorted(my_str.split(), key = lambda x: x.casefold())"
   ]
  },
  {
   "cell_type": "markdown",
   "metadata": {
    "id": "l5F0L2ikoIKF"
   },
   "source": [
    "# 7. Python Program to Illustrate Different Set Operations\n",
    "\n",
    "In this example, we have defined two set variables and we have performed different set operations: union, intersection, difference and symmetric difference."
   ]
  },
  {
   "cell_type": "markdown",
   "metadata": {
    "id": "SJYTJtFLoMxE"
   },
   "source": [
    "Python offers a datatype called set whose elements must be unique. It can be used to perform different set operations like union, intersection, difference and symmetric difference."
   ]
  },
  {
   "cell_type": "code",
   "execution_count": null,
   "metadata": {
    "id": "voSrcJvAntgK"
   },
   "outputs": [],
   "source": [
    "# Different set operations\n",
    "m = {0, 2, 4, 6, 8, 10}\n",
    "n = {1, 2, 3, 4, 5, 7}"
   ]
  },
  {
   "cell_type": "code",
   "execution_count": null,
   "metadata": {
    "colab": {
     "base_uri": "https://localhost:8080/"
    },
    "id": "2QFfy1N7phbQ",
    "outputId": "40b81125-854d-47dd-d0ef-f59700d1d7cb"
   },
   "outputs": [
    {
     "data": {
      "text/plain": [
       "{0, 1, 2, 3, 4, 5, 6, 7, 8, 10}"
      ]
     },
     "execution_count": 47,
     "metadata": {},
     "output_type": "execute_result"
    }
   ],
   "source": [
    "# set union\n",
    "m | n\n",
    "# Print all the values in m and n by removing duplicates"
   ]
  },
  {
   "cell_type": "code",
   "execution_count": null,
   "metadata": {
    "colab": {
     "base_uri": "https://localhost:8080/"
    },
    "id": "FE4sVPadpn26",
    "outputId": "4ff448d8-a711-4980-cfa1-861b03d9529a"
   },
   "outputs": [
    {
     "data": {
      "text/plain": [
       "{2, 4}"
      ]
     },
     "execution_count": 49,
     "metadata": {},
     "output_type": "execute_result"
    }
   ],
   "source": [
    "# set Intersection\n",
    "m & n\n",
    "# print all the common values between m and n"
   ]
  },
  {
   "cell_type": "code",
   "execution_count": null,
   "metadata": {
    "colab": {
     "base_uri": "https://localhost:8080/"
    },
    "id": "1qrV_xt_p41Y",
    "outputId": "a408e016-d376-4aef-d14b-f819093732d5"
   },
   "outputs": [
    {
     "data": {
      "text/plain": [
       "{0, 6, 8, 10}"
      ]
     },
     "execution_count": 51,
     "metadata": {},
     "output_type": "execute_result"
    }
   ],
   "source": [
    "# set difference\n",
    "m - n\n",
    "# returns a new set containing elements that are present in set m but not in set n."
   ]
  },
  {
   "cell_type": "code",
   "execution_count": null,
   "metadata": {
    "colab": {
     "base_uri": "https://localhost:8080/"
    },
    "id": "MzbajQ-_qEDb",
    "outputId": "270cda7f-c690-4a57-c815-d4bfb4bee51c"
   },
   "outputs": [
    {
     "data": {
      "text/plain": [
       "{0, 1, 3, 5, 6, 7, 8, 10}"
      ]
     },
     "execution_count": 53,
     "metadata": {},
     "output_type": "execute_result"
    }
   ],
   "source": [
    "# set symmetric difference\n",
    "m ^ n\n",
    "# It returns a new set containing elements that are present in either m or n, but not in both."
   ]
  },
  {
   "cell_type": "markdown",
   "metadata": {
    "id": "s1BmMEGLwYmn"
   },
   "source": [
    "# 8. Python Program to Count the Number of Each Vowel\n",
    "\n",
    "In this program, you'll learn to count the number of each vowel in a string using dictionary and list comprehension."
   ]
  },
  {
   "cell_type": "code",
   "execution_count": null,
   "metadata": {
    "id": "G2u0McZWqgaK"
   },
   "outputs": [],
   "source": [
    "# count the number of each vowel\n",
    "ip_str = 'Hello, have you visited my github python tutorials yet?'"
   ]
  },
  {
   "cell_type": "code",
   "execution_count": null,
   "metadata": {
    "id": "otHFAFrbwpHP"
   },
   "outputs": [],
   "source": [
    "vowels = ['a','e','i','o','u','A','E','I','O','U']"
   ]
  },
  {
   "cell_type": "code",
   "execution_count": null,
   "metadata": {
    "id": "5YLChfiiwxns"
   },
   "outputs": [],
   "source": [
    "# using iterative process:\n",
    "def vowel_count_iterative(input_str):\n",
    "  vowel_count = {vowel: 0 for vowel in vowels}\n",
    "  for c in input_str:\n",
    "    if c in vowels:\n",
    "      vowel_count[c] += 1\n",
    "  return vowel_count"
   ]
  },
  {
   "cell_type": "code",
   "execution_count": null,
   "metadata": {
    "colab": {
     "base_uri": "https://localhost:8080/"
    },
    "id": "BTpCJb_nxJOg",
    "outputId": "20d0588f-e941-43e6-f7ed-f820e84fec12"
   },
   "outputs": [
    {
     "data": {
      "text/plain": [
       "{'a': 2,\n",
       " 'e': 4,\n",
       " 'i': 4,\n",
       " 'o': 4,\n",
       " 'u': 3,\n",
       " 'A': 0,\n",
       " 'E': 0,\n",
       " 'I': 0,\n",
       " 'O': 0,\n",
       " 'U': 0}"
      ]
     },
     "execution_count": 17,
     "metadata": {},
     "output_type": "execute_result"
    }
   ],
   "source": [
    "vowel_count_iterative(ip_str)"
   ]
  },
  {
   "cell_type": "code",
   "execution_count": null,
   "metadata": {
    "id": "JmauS-z8xh8U"
   },
   "outputs": [],
   "source": [
    "vowel_count = {}"
   ]
  },
  {
   "cell_type": "code",
   "execution_count": null,
   "metadata": {
    "colab": {
     "base_uri": "https://localhost:8080/"
    },
    "id": "yg1UgVcpy9G7",
    "outputId": "09679cb8-fc5f-40ed-8f78-d9078e89ad09"
   },
   "outputs": [
    {
     "data": {
      "text/plain": [
       "{'a': 0,\n",
       " 'e': 0,\n",
       " 'i': 0,\n",
       " 'o': 0,\n",
       " 'u': 0,\n",
       " 'A': 0,\n",
       " 'E': 0,\n",
       " 'I': 0,\n",
       " 'O': 0,\n",
       " 'U': 0}"
      ]
     },
     "execution_count": 11,
     "metadata": {},
     "output_type": "execute_result"
    }
   ],
   "source": [
    "# Intialize vowels dictionary with zeros\n",
    " {vowel: 0 for vowel in vowels}"
   ]
  },
  {
   "cell_type": "code",
   "execution_count": null,
   "metadata": {
    "id": "9p5iELOlzHy1"
   },
   "outputs": [],
   "source": [
    "# Using Dictionary\n",
    "vowels = 'aeiou'"
   ]
  },
  {
   "cell_type": "code",
   "execution_count": null,
   "metadata": {
    "id": "ckie-X6p0Hq_"
   },
   "outputs": [],
   "source": [
    "ip_str = 'Hello, have you visited my github python tutorials yet?'"
   ]
  },
  {
   "cell_type": "code",
   "execution_count": null,
   "metadata": {
    "id": "8E-cVKI90J-X"
   },
   "outputs": [],
   "source": [
    "# make it suitable for caseless comparisions\n",
    "ip_str = ip_str.casefold()"
   ]
  },
  {
   "cell_type": "code",
   "execution_count": null,
   "metadata": {
    "colab": {
     "base_uri": "https://localhost:8080/"
    },
    "id": "E-VVbsC20TNT",
    "outputId": "e1a7f678-1bf7-4af1-b32d-b209b7f491b5"
   },
   "outputs": [
    {
     "data": {
      "text/plain": [
       "{'a': 0, 'e': 0, 'i': 0, 'o': 0, 'u': 0}"
      ]
     },
     "execution_count": 23,
     "metadata": {},
     "output_type": "execute_result"
    }
   ],
   "source": [
    "# make a dictionary with each vowel key and value 0\n",
    "count = {}.fromkeys(vowels,0)\n",
    "count"
   ]
  },
  {
   "cell_type": "code",
   "execution_count": null,
   "metadata": {
    "colab": {
     "base_uri": "https://localhost:8080/"
    },
    "id": "nlsjP-kS0n1Q",
    "outputId": "79e6934b-fe41-4757-96b5-955faa603844"
   },
   "outputs": [
    {
     "data": {
      "text/plain": [
       "{'a': 0, 'e': 0, 'i': 0, 'o': 0, 'u': 0}"
      ]
     },
     "execution_count": 24,
     "metadata": {},
     "output_type": "execute_result"
    }
   ],
   "source": [
    "# another way to make default dictionary\n",
    "count = {vowel: 0 for vowel in vowels}\n",
    "count"
   ]
  },
  {
   "cell_type": "code",
   "execution_count": null,
   "metadata": {
    "id": "M22UMNQu02rQ"
   },
   "outputs": [],
   "source": [
    "for char in ip_str:\n",
    "  if char in count:\n",
    "    count[char] += 1"
   ]
  },
  {
   "cell_type": "code",
   "execution_count": null,
   "metadata": {
    "colab": {
     "base_uri": "https://localhost:8080/"
    },
    "id": "UGZGOfsE1N3M",
    "outputId": "c58c7843-570f-49da-be29-93dd1c6d27f5"
   },
   "outputs": [
    {
     "data": {
      "text/plain": [
       "{'a': 2, 'e': 4, 'i': 4, 'o': 4, 'u': 3}"
      ]
     },
     "execution_count": 26,
     "metadata": {},
     "output_type": "execute_result"
    }
   ],
   "source": [
    "count"
   ]
  },
  {
   "cell_type": "code",
   "execution_count": null,
   "metadata": {
    "id": "WRsC2UEd2itA"
   },
   "outputs": [],
   "source": [
    "vowels = ['a','e','i','o','u','A','E','I','O','U']\n",
    "ip_str = 'Hello, have you visited my github python tutorials yet?'"
   ]
  },
  {
   "cell_type": "code",
   "execution_count": null,
   "metadata": {
    "colab": {
     "base_uri": "https://localhost:8080/"
    },
    "id": "rSfdY77Q1Ot9",
    "outputId": "d95554e4-5906-41b8-9463-8a6083bcb163"
   },
   "outputs": [
    {
     "data": {
      "text/plain": [
       "{'a': 2,\n",
       " 'e': 4,\n",
       " 'i': 4,\n",
       " 'o': 4,\n",
       " 'u': 3,\n",
       " 'A': 0,\n",
       " 'E': 0,\n",
       " 'I': 0,\n",
       " 'O': 0,\n",
       " 'U': 0}"
      ]
     },
     "execution_count": 40,
     "metadata": {},
     "output_type": "execute_result"
    }
   ],
   "source": [
    "# Using Dictionary comprehension\n",
    "{vowel: sum(1 for char in ip_str if char == vowel) for vowel in vowels}"
   ]
  },
  {
   "cell_type": "code",
   "execution_count": null,
   "metadata": {
    "id": "0KP0ET0L2l0f"
   },
   "outputs": [],
   "source": [
    "def vowel_count_dict_comprehension(ip_str):\n",
    "  vowels = ['a','e','i','o','u','A','E','I','O','U']\n",
    "  return {vowel: sum(1 for char in ip_str if char == vowel) for vowel in vowels}"
   ]
  },
  {
   "cell_type": "code",
   "execution_count": null,
   "metadata": {
    "colab": {
     "base_uri": "https://localhost:8080/"
    },
    "id": "KfLxIH627k0j",
    "outputId": "80a5ddaa-c9d7-468d-833c-ba168623a056"
   },
   "outputs": [
    {
     "data": {
      "text/plain": [
       "{'a': 2,\n",
       " 'e': 4,\n",
       " 'i': 4,\n",
       " 'o': 4,\n",
       " 'u': 3,\n",
       " 'A': 0,\n",
       " 'E': 0,\n",
       " 'I': 0,\n",
       " 'O': 0,\n",
       " 'U': 0}"
      ]
     },
     "execution_count": 39,
     "metadata": {},
     "output_type": "execute_result"
    }
   ],
   "source": [
    "vowel_count_dict_comprehension(ip_str)"
   ]
  },
  {
   "cell_type": "code",
   "execution_count": null,
   "metadata": {
    "id": "nK6K9SQb7oYp"
   },
   "outputs": [],
   "source": [
    "# Using filter and lambda\n",
    "def vowel_count_filter(ip_str):\n",
    "  vowels = ['a','e','i','o','u','A','E','I','O','U']\n",
    "  return {vowel: len(list(filter(lambda x: x == vowel, ip_str))) for vowel in vowels}"
   ]
  },
  {
   "cell_type": "code",
   "execution_count": null,
   "metadata": {
    "colab": {
     "base_uri": "https://localhost:8080/"
    },
    "id": "GBLbZehl8Teg",
    "outputId": "9b3a4de8-7436-4892-9552-ebd3194ddd94"
   },
   "outputs": [
    {
     "data": {
      "text/plain": [
       "{'a': 2,\n",
       " 'e': 4,\n",
       " 'i': 4,\n",
       " 'o': 4,\n",
       " 'u': 3,\n",
       " 'A': 0,\n",
       " 'E': 0,\n",
       " 'I': 0,\n",
       " 'O': 0,\n",
       " 'U': 0}"
      ]
     },
     "execution_count": 47,
     "metadata": {},
     "output_type": "execute_result"
    }
   ],
   "source": [
    "vowel_count_filter(ip_str)"
   ]
  },
  {
   "cell_type": "code",
   "execution_count": null,
   "metadata": {
    "id": "qYFR9Xd785ew"
   },
   "outputs": [],
   "source": [
    "# Using regex\n",
    "import re\n",
    "def vowel_count_regex(ip_str):\n",
    "  return {vowel: len(re.findall(vowel, ip_str)) for vowel in 'aeiouAEIOUD'}"
   ]
  },
  {
   "cell_type": "code",
   "execution_count": null,
   "metadata": {
    "colab": {
     "base_uri": "https://localhost:8080/"
    },
    "id": "msu0zpa09_OW",
    "outputId": "28488056-c859-4d43-8c12-bcb2eff48e71"
   },
   "outputs": [
    {
     "data": {
      "text/plain": [
       "{'a': 2,\n",
       " 'e': 4,\n",
       " 'i': 4,\n",
       " 'o': 4,\n",
       " 'u': 3,\n",
       " 'A': 0,\n",
       " 'E': 0,\n",
       " 'I': 0,\n",
       " 'O': 0,\n",
       " 'U': 0,\n",
       " 'D': 0}"
      ]
     },
     "execution_count": 50,
     "metadata": {},
     "output_type": "execute_result"
    }
   ],
   "source": [
    "vowel_count_regex(ip_str)"
   ]
  },
  {
   "cell_type": "markdown",
   "metadata": {
    "id": "HKz4J94k_Uhj"
   },
   "source": [
    "# 9. Python Program to Merge Two Dictionaries\n",
    "\n",
    "In this example, you will learn to merge two dictionaries into one in Python programming."
   ]
  },
  {
   "cell_type": "code",
   "execution_count": null,
   "metadata": {
    "id": "x9jkQI9a-SCm"
   },
   "outputs": [],
   "source": [
    "d1 = {1:'a', 2:'b'}\n",
    "d2 = {2:'c', 4:'d'}"
   ]
  },
  {
   "cell_type": "code",
   "execution_count": null,
   "metadata": {
    "colab": {
     "base_uri": "https://localhost:8080/"
    },
    "id": "y9sTC8Xg_ung",
    "outputId": "1f6b10d9-dae4-4463-bf95-bbb16abaf23a"
   },
   "outputs": [
    {
     "data": {
      "text/plain": [
       "{1: 'a', 2: 'c', 4: 'd'}"
      ]
     },
     "execution_count": 52,
     "metadata": {},
     "output_type": "execute_result"
    }
   ],
   "source": [
    "# merge using operator |\n",
    "d = d1 | d2\n",
    "d"
   ]
  },
  {
   "cell_type": "markdown",
   "metadata": {
    "id": "4fEJ2PnL_2dO"
   },
   "source": [
    ">**Note:** It works for python **3.9 and above** versions only.\n",
    "\n",
    "**Explanation:**\n",
    "\n",
    "**`|`** operator merges two dictionaries. If there are two same keys with different values on the two dictionaries, the later one is chosen for the merge operation.\n",
    "\n",
    "In the above example, there are two key-value pairs with the same key **`2`**. The later one **`2:'c'`** is chosen for the merge."
   ]
  },
  {
   "cell_type": "code",
   "execution_count": null,
   "metadata": {
    "colab": {
     "base_uri": "https://localhost:8080/"
    },
    "id": "VpEU9Dso_zxg",
    "outputId": "ab0094bf-8137-4616-b16d-e483213598d7"
   },
   "outputs": [
    {
     "data": {
      "text/plain": [
       "{1: 'a', 2: 'c', 4: 'd'}"
      ]
     },
     "execution_count": 53,
     "metadata": {},
     "output_type": "execute_result"
    }
   ],
   "source": [
    "# using operator **\n",
    "d = {**d1, **d2}\n",
    "d"
   ]
  },
  {
   "cell_type": "code",
   "execution_count": null,
   "metadata": {
    "colab": {
     "base_uri": "https://localhost:8080/"
    },
    "id": "IgMlZjnoACye",
    "outputId": "5bbdd47c-f123-49fe-e977-50797b2431b4"
   },
   "outputs": [
    {
     "data": {
      "text/plain": [
       "{1: 'a', 2: 'c', 4: 'd'}"
      ]
     },
     "execution_count": 54,
     "metadata": {},
     "output_type": "execute_result"
    }
   ],
   "source": [
    "# using update\n",
    "d1.update(d1)\n",
    "d1.update(d2)\n",
    "d1"
   ]
  },
  {
   "cell_type": "markdown",
   "metadata": {
    "id": "3FaAlpwoDKto"
   },
   "source": [
    "# 10.Python Program to Access Index of a List Using for Loop\n",
    "\n",
    "In this example, you will learn to access the index of a list using a for loop."
   ]
  },
  {
   "cell_type": "code",
   "execution_count": null,
   "metadata": {
    "id": "eFquGlVdAWys"
   },
   "outputs": [],
   "source": [
    "my_list = [21, 33, 66, 77]"
   ]
  },
  {
   "cell_type": "code",
   "execution_count": null,
   "metadata": {
    "colab": {
     "base_uri": "https://localhost:8080/"
    },
    "id": "oJy-35ePDWBC",
    "outputId": "b8c8ce99-979e-40c8-94a5-e93abcbb12e7"
   },
   "outputs": [
    {
     "name": "stdout",
     "output_type": "stream",
     "text": [
      "Index: 0, Value: 21\n",
      "Index: 1, Value: 33\n",
      "Index: 2, Value: 66\n",
      "Index: 3, Value: 77\n"
     ]
    }
   ],
   "source": [
    "# Using enumerate\n",
    "for index,value in enumerate(my_list):\n",
    "  print(f\"Index: {index}, Value: {value}\")"
   ]
  },
  {
   "cell_type": "code",
   "execution_count": null,
   "metadata": {
    "colab": {
     "base_uri": "https://localhost:8080/"
    },
    "id": "kq6IisaWDlZK",
    "outputId": "2dfa26d7-eb31-48cc-ddf6-42eaf7004691"
   },
   "outputs": [
    {
     "name": "stdout",
     "output_type": "stream",
     "text": [
      "Index: 100, Value: 21\n",
      "Index: 101, Value: 33\n",
      "Index: 102, Value: 66\n",
      "Index: 103, Value: 77\n"
     ]
    }
   ],
   "source": [
    "# start index with non zero value\n",
    "for index,value in enumerate(my_list, start = 100):\n",
    "  print(f\"Index: {index}, Value: {value}\")"
   ]
  },
  {
   "cell_type": "code",
   "execution_count": null,
   "metadata": {
    "colab": {
     "base_uri": "https://localhost:8080/"
    },
    "id": "39y3u7_bD1fZ",
    "outputId": "c51b86d1-88da-4bad-98c0-68c38633b076"
   },
   "outputs": [
    {
     "name": "stdout",
     "output_type": "stream",
     "text": [
      "Index : 0, Value: 21\n",
      "Index : 1, Value: 33\n",
      "Index : 2, Value: 66\n",
      "Index : 3, Value: 77\n"
     ]
    }
   ],
   "source": [
    "# without using enumerate how to print both index and value\n",
    "for index in range(len(my_list)):\n",
    "  print(f\"Index : {index}, Value: {my_list[index]}\")"
   ]
  },
  {
   "cell_type": "markdown",
   "metadata": {
    "id": "g1EnWHkenLlv"
   },
   "source": [
    "# 11. Python Program to Make a Flattened List from Nested List\n",
    "\n",
    "In this example, you will learn to make a flattened list from a nested list in Python.\n"
   ]
  },
  {
   "cell_type": "code",
   "execution_count": null,
   "metadata": {
    "id": "-lkPuHZmENcc"
   },
   "outputs": [],
   "source": [
    "my_list = [[7], [6,5], [4,3,2,1]]"
   ]
  },
  {
   "cell_type": "code",
   "execution_count": null,
   "metadata": {
    "colab": {
     "base_uri": "https://localhost:8080/"
    },
    "id": "kFA8d-qWnYtx",
    "outputId": "f0650361-8330-44a6-87ef-9e74cc0223de"
   },
   "outputs": [
    {
     "data": {
      "text/plain": [
       "[7, 6, 5, 4, 3, 2, 1]"
      ]
     },
     "execution_count": 6,
     "metadata": {},
     "output_type": "execute_result"
    }
   ],
   "source": [
    "flat_list = [num for sublist in my_list for num in sublist]\n",
    "flat_list"
   ]
  },
  {
   "cell_type": "code",
   "execution_count": null,
   "metadata": {
    "id": "A48PJrr1oMyW"
   },
   "outputs": [],
   "source": [
    "# * Using list comprehension access the sublist from **`my_list`**, then access each element of the sublist."
   ]
  },
  {
   "cell_type": "code",
   "execution_count": null,
   "metadata": {
    "id": "Cq-ETKhyojuh"
   },
   "outputs": [],
   "source": [
    "# using nested lops\n",
    "flat_list = []\n",
    "for sublist in my_list:\n",
    "  for num in sublist:\n",
    "    flat_list.append(num)"
   ]
  },
  {
   "cell_type": "code",
   "execution_count": null,
   "metadata": {
    "colab": {
     "base_uri": "https://localhost:8080/"
    },
    "id": "GO8gNdikozTn",
    "outputId": "527f9440-4f18-4b7d-fcff-8e69c7fb510a"
   },
   "outputs": [
    {
     "data": {
      "text/plain": [
       "[7, 6, 5, 4, 3, 2, 1]"
      ]
     },
     "execution_count": 10,
     "metadata": {},
     "output_type": "execute_result"
    }
   ],
   "source": [
    "flat_list"
   ]
  },
  {
   "cell_type": "code",
   "execution_count": null,
   "metadata": {
    "colab": {
     "base_uri": "https://localhost:8080/"
    },
    "id": "WpBbdvJio0W_",
    "outputId": "8bc6d210-5d88-470c-b85f-22df5e092fff"
   },
   "outputs": [
    {
     "data": {
      "text/plain": [
       "[7, 6, 5, 4, 3, 2, 1]"
      ]
     },
     "execution_count": 14,
     "metadata": {},
     "output_type": "execute_result"
    }
   ],
   "source": [
    "# using itertools package\n",
    "import itertools\n",
    "flat_list = list(itertools.chain(*my_list))\n",
    "flat_list"
   ]
  },
  {
   "cell_type": "code",
   "execution_count": null,
   "metadata": {
    "id": "KQuDENBDo9iT"
   },
   "outputs": [],
   "source": [
    "# chain()`** method from itertools module returns each element of each iterable (i.e., sub lists )."
   ]
  },
  {
   "cell_type": "code",
   "execution_count": null,
   "metadata": {
    "colab": {
     "base_uri": "https://localhost:8080/"
    },
    "id": "82Cn5ZvhpVbl",
    "outputId": "5edb886a-8508-44d0-9910-337e8444f008"
   },
   "outputs": [
    {
     "data": {
      "text/plain": [
       "[7, 6, 5, 4, 3, 2, 1]"
      ]
     },
     "execution_count": 17,
     "metadata": {},
     "output_type": "execute_result"
    }
   ],
   "source": [
    "# Using sum()\n",
    "flat_list = sum(my_list, [])\n",
    "flat_list"
   ]
  },
  {
   "cell_type": "code",
   "execution_count": null,
   "metadata": {
    "colab": {
     "base_uri": "https://localhost:8080/"
    },
    "id": "INtAYA1XpjGb",
    "outputId": "404c02e2-0973-4788-ea6a-f17df5344dfa"
   },
   "outputs": [
    {
     "data": {
      "text/plain": [
       "[7, 6, 5, 4, 3, 2, 1]"
      ]
     },
     "execution_count": 21,
     "metadata": {},
     "output_type": "execute_result"
    }
   ],
   "source": [
    "# Using Lambda and Reduce\n",
    "from functools import reduce\n",
    "reduce(lambda x, y : x+y, my_list)"
   ]
  },
  {
   "cell_type": "markdown",
   "metadata": {
    "id": "BJS7Kj-0q9et"
   },
   "source": [
    "# 12.Python Program to Slice Lists\n",
    "\n",
    "In this example, you will understand different ways of list slicing in Python.\n",
    "\n",
    "The format for list slicing is **[start:stop:step]**.\n",
    "\n",
    "* **start** is the index of the list where slicing starts.\n",
    "* **stop** is the index of the list where slicing ends.\n",
    "* **step** allows you to select **nth** item within the range **start** to **stop**."
   ]
  },
  {
   "cell_type": "code",
   "execution_count": null,
   "metadata": {
    "id": "3n1RQaGsp4kY"
   },
   "outputs": [],
   "source": [
    "\n",
    "my_list = [1, 2, 3, 4, 5, 6]"
   ]
  },
  {
   "cell_type": "code",
   "execution_count": null,
   "metadata": {
    "colab": {
     "base_uri": "https://localhost:8080/"
    },
    "id": "WEUAXxpCrNIu",
    "outputId": "8098344e-9633-4673-cc88-323a6b12464b"
   },
   "outputs": [
    {
     "data": {
      "text/plain": [
       "[1, 2, 3, 4, 5, 6]"
      ]
     },
     "execution_count": 23,
     "metadata": {},
     "output_type": "execute_result"
    }
   ],
   "source": [
    "# get all the items\n",
    "my_list[:]"
   ]
  },
  {
   "cell_type": "markdown",
   "metadata": {
    "id": "zCVlJEZArT8Q"
   },
   "source": [
    "**Explanation:**\n",
    "\n",
    "If you simply use **`:`**, you will get all the elements of the list. This is similar to **`print(my_list)`**."
   ]
  },
  {
   "cell_type": "code",
   "execution_count": null,
   "metadata": {
    "colab": {
     "base_uri": "https://localhost:8080/"
    },
    "id": "6XE7Jl4wrQhW",
    "outputId": "579acdeb-f50e-492a-90a6-f5a46d5564d5"
   },
   "outputs": [
    {
     "data": {
      "text/plain": [
       "[3, 4, 5, 6]"
      ]
     },
     "execution_count": 24,
     "metadata": {},
     "output_type": "execute_result"
    }
   ],
   "source": [
    "# Get all the numbers after a specified position\n",
    "my_list[2:]"
   ]
  },
  {
   "cell_type": "code",
   "execution_count": null,
   "metadata": {
    "colab": {
     "base_uri": "https://localhost:8080/"
    },
    "id": "iDgs3Wqtrc7i",
    "outputId": "ee7d184b-41a2-4519-c9e3-8e30a0646f2b"
   },
   "outputs": [
    {
     "data": {
      "text/plain": [
       "[1, 2]"
      ]
     },
     "execution_count": 26,
     "metadata": {},
     "output_type": "execute_result"
    }
   ],
   "source": [
    "# Get all the numbers before a specified position\n",
    "my_list[:2] # any number after \":\" is excluded. For Eg here 2 is excluded and it will print till 1st index"
   ]
  },
  {
   "cell_type": "code",
   "execution_count": null,
   "metadata": {
    "colab": {
     "base_uri": "https://localhost:8080/"
    },
    "id": "i09ebY_grmFb",
    "outputId": "839086b3-1fba-4776-a0f9-80f371dc3a89"
   },
   "outputs": [
    {
     "data": {
      "text/plain": [
       "[3, 4]"
      ]
     },
     "execution_count": 28,
     "metadata": {},
     "output_type": "execute_result"
    }
   ],
   "source": [
    "# Get all the elements from one positon to another position\n",
    "my_list[2:4]  # prints from index 2 to 3"
   ]
  },
  {
   "cell_type": "code",
   "execution_count": null,
   "metadata": {
    "colab": {
     "base_uri": "https://localhost:8080/"
    },
    "id": "GCh3bjYpsHzz",
    "outputId": "657ca581-c720-4af3-c02e-b2c4293b9639"
   },
   "outputs": [
    {
     "data": {
      "text/plain": [
       "[1, 3, 5]"
      ]
     },
     "execution_count": 29,
     "metadata": {},
     "output_type": "execute_result"
    }
   ],
   "source": [
    "# Get the elements at a specified Intervals\n",
    "my_list[::2] # prints elements at every 2nd interval"
   ]
  },
  {
   "cell_type": "code",
   "execution_count": null,
   "metadata": {
    "colab": {
     "base_uri": "https://localhost:8080/"
    },
    "id": "r3ZgwUG5saNy",
    "outputId": "6d7aeba8-fef9-4acb-b1b0-5ca2efab7be6"
   },
   "outputs": [
    {
     "data": {
      "text/plain": [
       "[6]"
      ]
     },
     "execution_count": 31,
     "metadata": {},
     "output_type": "execute_result"
    }
   ],
   "source": []
  },
  {
   "cell_type": "code",
   "execution_count": null,
   "metadata": {
    "colab": {
     "base_uri": "https://localhost:8080/"
    },
    "id": "L3O77hh0sekT",
    "outputId": "82a099ef-7c25-466a-8456-69ff70951a19"
   },
   "outputs": [
    {
     "data": {
      "text/plain": [
       "[6, 4, 2]"
      ]
     },
     "execution_count": 33,
     "metadata": {},
     "output_type": "execute_result"
    }
   ],
   "source": [
    "# Index will start from last\n",
    "my_list[::-2]"
   ]
  },
  {
   "cell_type": "code",
   "execution_count": null,
   "metadata": {
    "colab": {
     "base_uri": "https://localhost:8080/"
    },
    "id": "lgZccdpwwk6F",
    "outputId": "a62ae318-bbaf-4492-9086-17e8e50dbb3d"
   },
   "outputs": [
    {
     "data": {
      "text/plain": [
       "[2, 5]"
      ]
     },
     "execution_count": 35,
     "metadata": {},
     "output_type": "execute_result"
    }
   ],
   "source": [
    "my_list[1:5:3] # the elements from index 1 to 5 are sliced with intervals of 3"
   ]
  },
  {
   "cell_type": "markdown",
   "metadata": {
    "id": "kGAZ-96p3b5o"
   },
   "source": [
    "# 13.Python Program to Sort a Dictionary by Value\n",
    "\n",
    "In this example, you will learn to sort a Python dictionary by value."
   ]
  },
  {
   "cell_type": "code",
   "execution_count": null,
   "metadata": {
    "id": "XvLnd9P7yebR"
   },
   "outputs": [],
   "source": [
    "d = {7:8, 1:9, 6:3}"
   ]
  },
  {
   "cell_type": "code",
   "execution_count": null,
   "metadata": {
    "colab": {
     "base_uri": "https://localhost:8080/"
    },
    "id": "-VD6pfsk3zgP",
    "outputId": "93d9e542-4739-4edf-8908-36ae342a1be2"
   },
   "outputs": [
    {
     "data": {
      "text/plain": [
       "[3, 8, 9]"
      ]
     },
     "execution_count": 38,
     "metadata": {},
     "output_type": "execute_result"
    }
   ],
   "source": [
    "# Sorting only on the values\n",
    "sorted(d.values())"
   ]
  },
  {
   "cell_type": "code",
   "execution_count": null,
   "metadata": {
    "colab": {
     "base_uri": "https://localhost:8080/"
    },
    "id": "b2vSW4Of388K",
    "outputId": "43034e1e-de26-4ca9-d97e-34dd3288c7ad"
   },
   "outputs": [
    {
     "data": {
      "text/plain": [
       "{6: 3, 7: 8, 1: 9}"
      ]
     },
     "execution_count": 42,
     "metadata": {},
     "output_type": "execute_result"
    }
   ],
   "source": [
    "# Sort the dictionary based on values\n",
    "sorted_d = {key: value for key, value in sorted(d.items(), key = lambda item: item[1])}\n",
    "sorted_d"
   ]
  },
  {
   "cell_type": "code",
   "execution_count": null,
   "metadata": {
    "colab": {
     "base_uri": "https://localhost:8080/"
    },
    "id": "HIPs3qKC4du4",
    "outputId": "b263074a-0a93-41a7-c73a-330781004279"
   },
   "outputs": [
    {
     "data": {
      "text/plain": [
       "dict_items([(7, 8), (1, 9), (6, 3)])"
      ]
     },
     "execution_count": 40,
     "metadata": {},
     "output_type": "execute_result"
    }
   ],
   "source": [
    "d.items()"
   ]
  },
  {
   "cell_type": "code",
   "execution_count": null,
   "metadata": {
    "colab": {
     "base_uri": "https://localhost:8080/"
    },
    "id": "7ZsXMAVf4pbo",
    "outputId": "635889f2-16e2-46da-a935-b1a13556c5ab"
   },
   "outputs": [
    {
     "data": {
      "text/plain": [
       "{1: 9, 6: 3, 7: 8}"
      ]
     },
     "execution_count": 43,
     "metadata": {},
     "output_type": "execute_result"
    }
   ],
   "source": [
    "# Sort the dictionary based on keys\n",
    "{key: value for key, value in sorted(d.items(), key = lambda item: item[0])}"
   ]
  },
  {
   "cell_type": "markdown",
   "metadata": {
    "id": "G26GGN1y5HDg"
   },
   "source": [
    "# 14. Python Program to Check If a List is Empty"
   ]
  },
  {
   "cell_type": "code",
   "execution_count": null,
   "metadata": {
    "id": "-DcldgYy4_OU"
   },
   "outputs": [],
   "source": [
    "my_list = []"
   ]
  },
  {
   "cell_type": "code",
   "execution_count": null,
   "metadata": {
    "colab": {
     "base_uri": "https://localhost:8080/"
    },
    "id": "FKelTorj5P0Y",
    "outputId": "09a6bef8-3930-48c2-ce83-103022494f21"
   },
   "outputs": [
    {
     "name": "stdout",
     "output_type": "stream",
     "text": [
      "List is Empty\n"
     ]
    }
   ],
   "source": [
    "if not my_list:\n",
    "  print(\"List is Empty\")\n",
    "else:\n",
    "  print(\"List is not Empty\")"
   ]
  },
  {
   "cell_type": "code",
   "execution_count": null,
   "metadata": {
    "colab": {
     "base_uri": "https://localhost:8080/"
    },
    "id": "8SnqqQsD5Y4t",
    "outputId": "bf0bcf71-a0a8-4d9a-cbda-6bd03cebac21"
   },
   "outputs": [
    {
     "name": "stdout",
     "output_type": "stream",
     "text": [
      "List is Empty\n"
     ]
    }
   ],
   "source": [
    "if not len(my_list):\n",
    "  print(\"List is Empty\")\n",
    "else:\n",
    "  print(\"List is not Empty\")"
   ]
  },
  {
   "cell_type": "markdown",
   "metadata": {
    "id": "Llz6SjoH5w7I"
   },
   "source": [
    "# 15. Python Program to Concatenate Two Lists\n"
   ]
  },
  {
   "cell_type": "code",
   "execution_count": null,
   "metadata": {
    "id": "I8-gBj5v5pTg"
   },
   "outputs": [],
   "source": [
    "l1 = [7, 'n', 'm']\n",
    "l2 = [3, 6, 9]"
   ]
  },
  {
   "cell_type": "code",
   "execution_count": null,
   "metadata": {
    "colab": {
     "base_uri": "https://localhost:8080/"
    },
    "id": "sLVbfGNd55o9",
    "outputId": "5a92078a-5faf-44f2-a3ed-d789fc2a303c"
   },
   "outputs": [
    {
     "data": {
      "text/plain": [
       "[7, 'n', 'm', 3, 6, 9]"
      ]
     },
     "execution_count": 55,
     "metadata": {},
     "output_type": "execute_result"
    }
   ],
   "source": [
    "# using +\n",
    "l1 + l2"
   ]
  },
  {
   "cell_type": "code",
   "execution_count": null,
   "metadata": {
    "colab": {
     "base_uri": "https://localhost:8080/"
    },
    "id": "z4FpwTX957r8",
    "outputId": "3dcf8f57-f46d-4997-ff1b-397c5dcab6c2"
   },
   "outputs": [
    {
     "data": {
      "text/plain": [
       "[7, 'n', 'm', 3, 6, 9]"
      ]
     },
     "execution_count": 58,
     "metadata": {},
     "output_type": "execute_result"
    }
   ],
   "source": [
    "# using iterable unpacking operator\n",
    "[*l1, *l2]\n",
    "# `*`operator allows unpacking inside the list or tuple."
   ]
  },
  {
   "cell_type": "code",
   "execution_count": null,
   "metadata": {
    "colab": {
     "base_uri": "https://localhost:8080/"
    },
    "id": "2IBFVkAB6MqO",
    "outputId": "8ed27e5c-1ca7-4b98-fc21-c563d1473d57"
   },
   "outputs": [
    {
     "data": {
      "text/plain": [
       "[3, 'n', 6, 7, 'm', 9]"
      ]
     },
     "execution_count": 61,
     "metadata": {},
     "output_type": "execute_result"
    }
   ],
   "source": [
    "# join with unique values\n",
    "list(set(l1 + l2))\n",
    "# with set the values will be unordered"
   ]
  },
  {
   "cell_type": "code",
   "execution_count": null,
   "metadata": {
    "colab": {
     "base_uri": "https://localhost:8080/"
    },
    "id": "uxMA2C-l6buI",
    "outputId": "bcaccec8-341a-400f-d5b7-2677bf80cac1"
   },
   "outputs": [
    {
     "data": {
      "text/plain": [
       "[3, 6, 9, 7, 'n', 'm']"
      ]
     },
     "execution_count": 62,
     "metadata": {},
     "output_type": "execute_result"
    }
   ],
   "source": [
    "# using extend()\n",
    "l2.extend(l1)\n",
    "l2\n",
    "# l1 will be appended after l2 values"
   ]
  },
  {
   "cell_type": "markdown",
   "metadata": {
    "id": "D7XulwRd69kP"
   },
   "source": [
    "# 16. Python Program to Check if a Key is Already Present in a Dictionary\n"
   ]
  },
  {
   "cell_type": "code",
   "execution_count": null,
   "metadata": {
    "id": "4P1lVCZi6yrX"
   },
   "outputs": [],
   "source": [
    "d = {1:'a', 2:'b', 3:'c'}"
   ]
  },
  {
   "cell_type": "code",
   "execution_count": null,
   "metadata": {
    "colab": {
     "base_uri": "https://localhost:8080/"
    },
    "id": "Tlk7NJMU7Iks",
    "outputId": "37f973a5-8886-4f94-d351-68a80a8d60c1"
   },
   "outputs": [
    {
     "data": {
      "text/plain": [
       "dict_items([(1, 'a'), (2, 'b'), (3, 'c')])"
      ]
     },
     "execution_count": 64,
     "metadata": {},
     "output_type": "execute_result"
    }
   ],
   "source": [
    "d.items()"
   ]
  },
  {
   "cell_type": "code",
   "execution_count": null,
   "metadata": {
    "colab": {
     "base_uri": "https://localhost:8080/"
    },
    "id": "Uw0p9Tup7Jvs",
    "outputId": "743a04f2-02ae-4e13-95eb-9733faef19dd"
   },
   "outputs": [
    {
     "data": {
      "text/plain": [
       "[1, 2, 3]"
      ]
     },
     "execution_count": 73,
     "metadata": {},
     "output_type": "execute_result"
    }
   ],
   "source": [
    "list(d.keys())"
   ]
  },
  {
   "cell_type": "code",
   "execution_count": null,
   "metadata": {
    "colab": {
     "base_uri": "https://localhost:8080/"
    },
    "id": "LCyiIvD-7sMF",
    "outputId": "9ebfc576-607c-4361-d51a-e3669a1599df"
   },
   "outputs": [
    {
     "name": "stdout",
     "output_type": "stream",
     "text": [
      "Present\n"
     ]
    }
   ],
   "source": [
    "if 1 in d:\n",
    "  print(\"Present\")\n",
    "else:\n",
    "  print(\"Not Present\")"
   ]
  },
  {
   "cell_type": "code",
   "execution_count": null,
   "metadata": {
    "colab": {
     "base_uri": "https://localhost:8080/"
    },
    "id": "xqN6NjP67xUF",
    "outputId": "77707f87-01a9-45bb-8f3e-c76ba0e55e25"
   },
   "outputs": [
    {
     "data": {
      "text/plain": [
       "True"
      ]
     },
     "execution_count": 74,
     "metadata": {},
     "output_type": "execute_result"
    }
   ],
   "source": [
    "1 in d.keys()\n"
   ]
  },
  {
   "cell_type": "code",
   "execution_count": null,
   "metadata": {
    "colab": {
     "base_uri": "https://localhost:8080/"
    },
    "id": "iRV6q8VH73eg",
    "outputId": "95f179c2-6569-4ae1-b517-62419e98befa"
   },
   "outputs": [
    {
     "data": {
      "text/plain": [
       "False"
      ]
     },
     "execution_count": 76,
     "metadata": {},
     "output_type": "execute_result"
    }
   ],
   "source": [
    "1 in d.values()"
   ]
  },
  {
   "cell_type": "markdown",
   "metadata": {
    "id": "8tTEoSOvlaJJ"
   },
   "source": [
    "# 17. Python Program to Split a List Into Evenly Sized Chunks\n"
   ]
  },
  {
   "cell_type": "code",
   "execution_count": null,
   "metadata": {
    "id": "e2ge5E9Z8FMI"
   },
   "outputs": [],
   "source": [
    "my_list = [1, 2, 3, 4, 5, 6, 7, 8, 9]\n",
    "chunk_size = 2"
   ]
  },
  {
   "cell_type": "code",
   "execution_count": null,
   "metadata": {
    "id": "kWJrbQN-mEyv"
   },
   "outputs": [],
   "source": [
    "def split(my_list, chunk_size):\n",
    "  for i in range(0, len(my_list), chunk_size):\n",
    "    yield my_list[i:i + chunk_size]"
   ]
  },
  {
   "cell_type": "code",
   "execution_count": null,
   "metadata": {
    "colab": {
     "base_uri": "https://localhost:8080/"
    },
    "id": "tI5kQtU_mjMA",
    "outputId": "095a48d7-15c7-4066-dfd5-952da37e85f7"
   },
   "outputs": [
    {
     "data": {
      "text/plain": [
       "[[1, 2], [3, 4], [5, 6], [7, 8], [9]]"
      ]
     },
     "execution_count": 3,
     "metadata": {},
     "output_type": "execute_result"
    }
   ],
   "source": [
    "list(split(my_list, chunk_size))"
   ]
  },
  {
   "cell_type": "code",
   "execution_count": null,
   "metadata": {
    "id": "U3wteag3mpQN"
   },
   "outputs": [],
   "source": [
    "# yield keyword to create a generator function. It yields a chunk of the list starting from index i and ending at index i + chunk_size."
   ]
  },
  {
   "cell_type": "code",
   "execution_count": null,
   "metadata": {
    "colab": {
     "base_uri": "https://localhost:8080/"
    },
    "id": "ygNJagJKm7IL",
    "outputId": "f4872c59-27a2-4b02-d209-fd4b60829a35"
   },
   "outputs": [
    {
     "data": {
      "text/plain": [
       "[[1, 2], [3, 4], [5, 6], [7, 8], [9]]"
      ]
     },
     "execution_count": 8,
     "metadata": {},
     "output_type": "execute_result"
    }
   ],
   "source": [
    "# using list comprehension\n",
    "[my_list[i:i + chunk_size] for i in range(0, len(my_list), chunk_size)]"
   ]
  },
  {
   "cell_type": "code",
   "execution_count": null,
   "metadata": {
    "colab": {
     "base_uri": "https://localhost:8080/"
    },
    "id": "ifnnbRfsnPGp",
    "outputId": "6297ca7b-1db6-464a-bbc8-a18c859e8a1f"
   },
   "outputs": [
    {
     "name": "stdout",
     "output_type": "stream",
     "text": [
      "[array([1, 2]), array([3, 4]), array([5, 6]), array([7, 8]), array([9])]\n"
     ]
    }
   ],
   "source": [
    "# using numpy\n",
    "import numpy as np\n",
    "print(np.array_split(my_list, 5)) # 5 means it divides it into 5 equal parts"
   ]
  },
  {
   "cell_type": "markdown",
   "metadata": {
    "id": "bHjtGB-UoSof"
   },
   "source": [
    "# 18. Python Program to Parse a String to a Float or Int\n"
   ]
  },
  {
   "cell_type": "code",
   "execution_count": null,
   "metadata": {
    "id": "DDlfdrqknw7I"
   },
   "outputs": [],
   "source": [
    "# parse string into integer\n",
    "balance_str = \"1900\"\n",
    "balance_int = int(balance_str)"
   ]
  },
  {
   "cell_type": "code",
   "execution_count": null,
   "metadata": {
    "colab": {
     "base_uri": "https://localhost:8080/"
    },
    "id": "xzuPoKynog6y",
    "outputId": "51ad9347-1005-455d-a518-bf3ed9f42476"
   },
   "outputs": [
    {
     "data": {
      "text/plain": [
       "int"
      ]
     },
     "execution_count": 13,
     "metadata": {},
     "output_type": "execute_result"
    }
   ],
   "source": [
    "type(balance_int)"
   ]
  },
  {
   "cell_type": "code",
   "execution_count": null,
   "metadata": {
    "colab": {
     "base_uri": "https://localhost:8080/"
    },
    "id": "DbgBvQNfok2V",
    "outputId": "7fc6d5ae-259d-4577-90bf-a825366526c0"
   },
   "outputs": [
    {
     "data": {
      "text/plain": [
       "1900"
      ]
     },
     "execution_count": 14,
     "metadata": {},
     "output_type": "execute_result"
    }
   ],
   "source": [
    "balance_int"
   ]
  },
  {
   "cell_type": "code",
   "execution_count": null,
   "metadata": {
    "id": "LDuW16Dbompe"
   },
   "outputs": [],
   "source": [
    "# parse string into float\n",
    "balance_str = \"1900.6\"\n",
    "balance_float = float(balance_str)"
   ]
  },
  {
   "cell_type": "code",
   "execution_count": null,
   "metadata": {
    "colab": {
     "base_uri": "https://localhost:8080/"
    },
    "id": "9hZGCf5xo0fi",
    "outputId": "5360dd3f-022e-4f64-e5fd-612e7dbb3ece"
   },
   "outputs": [
    {
     "data": {
      "text/plain": [
       "float"
      ]
     },
     "execution_count": 16,
     "metadata": {},
     "output_type": "execute_result"
    }
   ],
   "source": [
    "type(balance_float)"
   ]
  },
  {
   "cell_type": "code",
   "execution_count": null,
   "metadata": {
    "colab": {
     "base_uri": "https://localhost:8080/"
    },
    "id": "nnn6VrvBo6AO",
    "outputId": "8148e8fe-6247-4a75-ba0b-9f35fb39a357"
   },
   "outputs": [
    {
     "data": {
      "text/plain": [
       "1900.6"
      ]
     },
     "execution_count": 17,
     "metadata": {},
     "output_type": "execute_result"
    }
   ],
   "source": [
    "balance_float"
   ]
  },
  {
   "cell_type": "code",
   "execution_count": null,
   "metadata": {
    "id": "XNSza6Dno7wz"
   },
   "outputs": [],
   "source": [
    "# string float numeral to integer\n",
    "balance_str = \"1900.36\"\n",
    "balance_int = int(float(balance_str))"
   ]
  },
  {
   "cell_type": "code",
   "execution_count": null,
   "metadata": {
    "colab": {
     "base_uri": "https://localhost:8080/"
    },
    "id": "x199SMmepP_W",
    "outputId": "5286f718-c38a-4250-ceec-fea8ec611b6a"
   },
   "outputs": [
    {
     "data": {
      "text/plain": [
       "int"
      ]
     },
     "execution_count": 19,
     "metadata": {},
     "output_type": "execute_result"
    }
   ],
   "source": [
    "type(balance_int)"
   ]
  },
  {
   "cell_type": "code",
   "execution_count": null,
   "metadata": {
    "colab": {
     "base_uri": "https://localhost:8080/"
    },
    "id": "rKU7GVITpRTL",
    "outputId": "e38225e3-e5cc-4ab2-b1fc-13b972d8d001"
   },
   "outputs": [
    {
     "data": {
      "text/plain": [
       "1900"
      ]
     },
     "execution_count": 20,
     "metadata": {},
     "output_type": "execute_result"
    }
   ],
   "source": [
    "balance_int"
   ]
  },
  {
   "cell_type": "markdown",
   "metadata": {
    "id": "j4Gw7emnphIA"
   },
   "source": [
    "# 19. Python Program to Convert String to Datetime\n"
   ]
  },
  {
   "cell_type": "code",
   "execution_count": null,
   "metadata": {
    "id": "gHOF7CbspSD9"
   },
   "outputs": [],
   "source": [
    "# using datetime module\n",
    "from datetime import datetime"
   ]
  },
  {
   "cell_type": "code",
   "execution_count": null,
   "metadata": {
    "id": "tqcBEC2jpr7S"
   },
   "outputs": [],
   "source": [
    "my_date_string = \"Aug 9 2018 11:11AM\""
   ]
  },
  {
   "cell_type": "code",
   "execution_count": null,
   "metadata": {
    "colab": {
     "base_uri": "https://localhost:8080/"
    },
    "id": "Z0LKCBocp00o",
    "outputId": "bb710f71-4958-4d4f-c8a4-f8a4c5853867"
   },
   "outputs": [
    {
     "data": {
      "text/plain": [
       "datetime.datetime(2018, 8, 9, 11, 11)"
      ]
     },
     "execution_count": 23,
     "metadata": {},
     "output_type": "execute_result"
    }
   ],
   "source": [
    "datetime_object = datetime.strptime(my_date_string, '%b %d %Y %I:%M%p')\n",
    "datetime_object"
   ]
  },
  {
   "cell_type": "code",
   "execution_count": null,
   "metadata": {
    "colab": {
     "base_uri": "https://localhost:8080/"
    },
    "id": "A3lMY48VqJcH",
    "outputId": "23e1cab3-1440-4738-f5cd-190733d1fe83"
   },
   "outputs": [
    {
     "data": {
      "text/plain": [
       "datetime.datetime"
      ]
     },
     "execution_count": 24,
     "metadata": {},
     "output_type": "execute_result"
    }
   ],
   "source": [
    "type(datetime_object)"
   ]
  },
  {
   "cell_type": "code",
   "execution_count": null,
   "metadata": {
    "id": "6pSmo1xaqPRN"
   },
   "outputs": [],
   "source": [
    "# using dateutil module\n",
    "from dateutil import parser\n",
    "date_time = parser.parse(\"Aug 9 2018 11:11AM\")"
   ]
  },
  {
   "cell_type": "code",
   "execution_count": null,
   "metadata": {
    "colab": {
     "base_uri": "https://localhost:8080/"
    },
    "id": "_Pfc70zbqhu7",
    "outputId": "a35bab2b-9108-4d1c-ac6c-701db1cf0c8f"
   },
   "outputs": [
    {
     "name": "stdout",
     "output_type": "stream",
     "text": [
      "2018-08-09 11:11:00\n"
     ]
    }
   ],
   "source": [
    "print(date_time)"
   ]
  },
  {
   "cell_type": "code",
   "execution_count": null,
   "metadata": {
    "colab": {
     "base_uri": "https://localhost:8080/"
    },
    "id": "damSvb4fqjxJ",
    "outputId": "73f1bbf1-fb4c-4360-9df7-059b4cced3c4"
   },
   "outputs": [
    {
     "name": "stdout",
     "output_type": "stream",
     "text": [
      "<class 'datetime.datetime'>\n"
     ]
    }
   ],
   "source": [
    "print(type(date_time))"
   ]
  },
  {
   "cell_type": "markdown",
   "metadata": {
    "id": "N1w-YZvev2Z5"
   },
   "source": [
    "# 20. Python Program to Randomly Select an Element From the List\n"
   ]
  },
  {
   "cell_type": "code",
   "execution_count": null,
   "metadata": {
    "id": "LRKho_TUqmyG"
   },
   "outputs": [],
   "source": [
    "my_list = ['a', 1, 'b', 2, 'c', 3, 3.14]"
   ]
  },
  {
   "cell_type": "code",
   "execution_count": null,
   "metadata": {
    "colab": {
     "base_uri": "https://localhost:8080/"
    },
    "id": "yjLNA9orwBzW",
    "outputId": "9bd77364-9da6-4650-9427-40385024a6a4"
   },
   "outputs": [
    {
     "data": {
      "text/plain": [
       "3.14"
      ]
     },
     "execution_count": 29,
     "metadata": {},
     "output_type": "execute_result"
    }
   ],
   "source": [
    "import random\n",
    "random.choice(my_list)"
   ]
  },
  {
   "cell_type": "code",
   "execution_count": null,
   "metadata": {
    "colab": {
     "base_uri": "https://localhost:8080/"
    },
    "id": "lLADmHBOwFoI",
    "outputId": "da98f649-5b04-41e5-bc58-c019e6525976"
   },
   "outputs": [
    {
     "data": {
      "text/plain": [
       "1"
      ]
     },
     "execution_count": 30,
     "metadata": {},
     "output_type": "execute_result"
    }
   ],
   "source": [
    "random.choice(my_list)"
   ]
  },
  {
   "cell_type": "code",
   "execution_count": null,
   "metadata": {
    "colab": {
     "base_uri": "https://localhost:8080/"
    },
    "id": "YN499ullwIPN",
    "outputId": "6794581c-8bdf-404a-8fa4-6795beadefae"
   },
   "outputs": [
    {
     "data": {
      "text/plain": [
       "1"
      ]
     },
     "execution_count": 32,
     "metadata": {},
     "output_type": "execute_result"
    }
   ],
   "source": [
    "import secrets\n",
    "secrets.choice(my_list)"
   ]
  },
  {
   "cell_type": "code",
   "execution_count": null,
   "metadata": {
    "colab": {
     "base_uri": "https://localhost:8080/"
    },
    "id": "UFwwa_MMwLOb",
    "outputId": "8148be78-37eb-4711-e4bc-dd968f21248d"
   },
   "outputs": [
    {
     "data": {
      "text/plain": [
       "3.14"
      ]
     },
     "execution_count": 33,
     "metadata": {},
     "output_type": "execute_result"
    }
   ],
   "source": [
    "secrets.choice(my_list)"
   ]
  },
  {
   "cell_type": "markdown",
   "metadata": {
    "id": "jWt96ZEnwY_x"
   },
   "source": [
    "# 21. Python Program to Check If a String Is a Number (Float)\n"
   ]
  },
  {
   "cell_type": "code",
   "execution_count": null,
   "metadata": {
    "id": "qLKrpkBowQue"
   },
   "outputs": [],
   "source": [
    "def is_float(num):\n",
    "  try:\n",
    "    float(num)\n",
    "    return True\n",
    "  except ValueError:\n",
    "    return False"
   ]
  },
  {
   "cell_type": "code",
   "execution_count": null,
   "metadata": {
    "colab": {
     "base_uri": "https://localhost:8080/"
    },
    "id": "AdIui50qwtUC",
    "outputId": "973dd57f-0d9e-42cc-b1bf-979c0eec1441"
   },
   "outputs": [
    {
     "data": {
      "text/plain": [
       "False"
      ]
     },
     "execution_count": 35,
     "metadata": {},
     "output_type": "execute_result"
    }
   ],
   "source": [
    "is_float(\"s61\")"
   ]
  },
  {
   "cell_type": "code",
   "execution_count": null,
   "metadata": {
    "colab": {
     "base_uri": "https://localhost:8080/"
    },
    "id": "apZQTcmuww8o",
    "outputId": "db770260-de5e-4271-e3ed-ddd3776e4cdc"
   },
   "outputs": [
    {
     "data": {
      "text/plain": [
       "True"
      ]
     },
     "execution_count": 36,
     "metadata": {},
     "output_type": "execute_result"
    }
   ],
   "source": [
    "is_float(3.14)"
   ]
  },
  {
   "cell_type": "markdown",
   "metadata": {
    "id": "JgHn-3qow8fx"
   },
   "source": [
    "# 22. Python Program to Count the Occurrence of an Item in a List\n",
    "\n",
    "In this example, you will learn to count the occurrence of an item in a list."
   ]
  },
  {
   "cell_type": "code",
   "execution_count": null,
   "metadata": {
    "id": "0RkwGXOzwy2J"
   },
   "outputs": [],
   "source": [
    "my_list = ['a', 1, 'a', 2, 'a', 3.14]"
   ]
  },
  {
   "cell_type": "code",
   "execution_count": null,
   "metadata": {
    "colab": {
     "base_uri": "https://localhost:8080/"
    },
    "id": "90lyCup4xJv_",
    "outputId": "c0dc3a40-7448-4dec-ff61-2beddf8371a0"
   },
   "outputs": [
    {
     "data": {
      "text/plain": [
       "3"
      ]
     },
     "execution_count": 39,
     "metadata": {},
     "output_type": "execute_result"
    }
   ],
   "source": [
    "# using couht method\n",
    "my_list.count('a')"
   ]
  },
  {
   "cell_type": "markdown",
   "metadata": {
    "id": "e7hvg5m8xawJ"
   },
   "source": [
    "# 23. Python Program to Delete an Element From a Dictionary\n"
   ]
  },
  {
   "cell_type": "code",
   "execution_count": null,
   "metadata": {
    "id": "-4U4lnHrxPer"
   },
   "outputs": [],
   "source": [
    "d = {33: 'a', 77: 'b', 99: 'c'}"
   ]
  },
  {
   "cell_type": "code",
   "execution_count": null,
   "metadata": {
    "id": "uKMWHKzxxk5Y"
   },
   "outputs": [],
   "source": [
    "# using del keyboard\n",
    "del d[33]"
   ]
  },
  {
   "cell_type": "code",
   "execution_count": null,
   "metadata": {
    "colab": {
     "base_uri": "https://localhost:8080/"
    },
    "id": "AtnGiTR6xoiy",
    "outputId": "4a9f8e51-3b68-44a8-dab3-8400d7fd12da"
   },
   "outputs": [
    {
     "data": {
      "text/plain": [
       "{77: 'b', 99: 'c'}"
      ]
     },
     "execution_count": 42,
     "metadata": {},
     "output_type": "execute_result"
    }
   ],
   "source": [
    "d"
   ]
  },
  {
   "cell_type": "code",
   "execution_count": null,
   "metadata": {
    "id": "E8hQcYfexpRT"
   },
   "outputs": [],
   "source": [
    "# using pop() method\n",
    "d = {33: 'a', 77: 'b', 99: 'c'}"
   ]
  },
  {
   "cell_type": "code",
   "execution_count": null,
   "metadata": {
    "colab": {
     "base_uri": "https://localhost:8080/"
    },
    "id": "UBzKq2oGx3pf",
    "outputId": "e842e53e-5da3-4557-be6b-c530e4d02c3a"
   },
   "outputs": [
    {
     "data": {
      "text/plain": [
       "{77: 'b', 99: 'c'}"
      ]
     },
     "execution_count": 45,
     "metadata": {},
     "output_type": "execute_result"
    }
   ],
   "source": [
    "deleted = d.pop(33)\n",
    "d"
   ]
  },
  {
   "cell_type": "code",
   "execution_count": null,
   "metadata": {
    "colab": {
     "base_uri": "https://localhost:8080/",
     "height": 35
    },
    "id": "ScgMehU6x-nj",
    "outputId": "0f3cd1e7-17d6-4e06-aba6-5673233251e9"
   },
   "outputs": [
    {
     "data": {
      "application/vnd.google.colaboratory.intrinsic+json": {
       "type": "string"
      },
      "text/plain": [
       "'a'"
      ]
     },
     "execution_count": 47,
     "metadata": {},
     "output_type": "execute_result"
    }
   ],
   "source": [
    "deleted # we can retrieve delted one if we use pop. by using del we can't retrieve"
   ]
  },
  {
   "cell_type": "markdown",
   "metadata": {
    "id": "HO-1PAu0yXr9"
   },
   "source": [
    "# 24. Python Program to Convert Two Lists Into a Dictionary\n"
   ]
  },
  {
   "cell_type": "code",
   "execution_count": null,
   "metadata": {
    "id": "yvSj6izMyAKK"
   },
   "outputs": [],
   "source": [
    "index = [1, 2, 3]\n",
    "languages = ['python', 'java', 'c']"
   ]
  },
  {
   "cell_type": "code",
   "execution_count": null,
   "metadata": {
    "colab": {
     "base_uri": "https://localhost:8080/"
    },
    "id": "M1gvHoLDyp7j",
    "outputId": "9c1d2bd3-93d6-4a11-d524-a2139dfeffe9"
   },
   "outputs": [
    {
     "data": {
      "text/plain": [
       "{1: 'python', 2: 'java', 3: 'c'}"
      ]
     },
     "execution_count": 51,
     "metadata": {},
     "output_type": "execute_result"
    }
   ],
   "source": [
    "# using zip and dict\n",
    "d = dict(zip(index, languages))\n",
    "d"
   ]
  },
  {
   "cell_type": "code",
   "execution_count": null,
   "metadata": {
    "colab": {
     "base_uri": "https://localhost:8080/"
    },
    "id": "oJgqIABHywG_",
    "outputId": "778ce107-7f94-40d6-e902-d32e35c14773"
   },
   "outputs": [
    {
     "data": {
      "text/plain": [
       "[(1, 'python'), (2, 'java'), (3, 'c')]"
      ]
     },
     "execution_count": 52,
     "metadata": {},
     "output_type": "execute_result"
    }
   ],
   "source": [
    "list(zip(index, languages)) # here we will get list of tuples"
   ]
  },
  {
   "cell_type": "code",
   "execution_count": null,
   "metadata": {
    "colab": {
     "base_uri": "https://localhost:8080/"
    },
    "id": "y_-bLXKhy5xh",
    "outputId": "f82e4ba1-8b81-438f-ba05-a0e14e26a868"
   },
   "outputs": [
    {
     "data": {
      "text/plain": [
       "{1: 'python', 2: 'java', 3: 'c'}"
      ]
     },
     "execution_count": 53,
     "metadata": {},
     "output_type": "execute_result"
    }
   ],
   "source": [
    "# using list comprehension\n",
    "d = {k: v for k,v in zip(index, languages)}\n",
    "d"
   ]
  },
  {
   "cell_type": "markdown",
   "metadata": {
    "id": "FT_xwtHw0ahN"
   },
   "source": [
    "# 25. Python Program to Trim Whitespace From a String\n"
   ]
  },
  {
   "cell_type": "code",
   "execution_count": null,
   "metadata": {
    "id": "3mOHT-Lx0OzT"
   },
   "outputs": [],
   "source": [
    "my_string = \" Python4DataScience \""
   ]
  },
  {
   "cell_type": "code",
   "execution_count": null,
   "metadata": {
    "colab": {
     "base_uri": "https://localhost:8080/",
     "height": 35
    },
    "id": "7MWYx6470e8v",
    "outputId": "cff27ad9-f342-4107-cf43-090173e153f7"
   },
   "outputs": [
    {
     "data": {
      "application/vnd.google.colaboratory.intrinsic+json": {
       "type": "string"
      },
      "text/plain": [
       "'Python4DataScience'"
      ]
     },
     "execution_count": 56,
     "metadata": {},
     "output_type": "execute_result"
    }
   ],
   "source": [
    "my_string.strip() # removes white space"
   ]
  },
  {
   "cell_type": "code",
   "execution_count": null,
   "metadata": {
    "id": "2mvRp8WB0gw3"
   },
   "outputs": [],
   "source": [
    "my_string = \" \\nPython4DataScience \""
   ]
  },
  {
   "cell_type": "code",
   "execution_count": null,
   "metadata": {
    "colab": {
     "base_uri": "https://localhost:8080/"
    },
    "id": "ETg4O5BD0l32",
    "outputId": "d83ccde9-8ac2-4d40-b918-38e0527a45a5"
   },
   "outputs": [
    {
     "name": "stdout",
     "output_type": "stream",
     "text": [
      "\n",
      "Python4DataScience\n"
     ]
    }
   ],
   "source": [
    "print(my_string.strip(\" \"))"
   ]
  },
  {
   "cell_type": "code",
   "execution_count": null,
   "metadata": {
    "id": "6ry3gz5_0qWU"
   },
   "outputs": [],
   "source": [
    "# using regular expressions\n",
    "import re"
   ]
  },
  {
   "cell_type": "code",
   "execution_count": null,
   "metadata": {
    "id": "-QBtcDY405K6"
   },
   "outputs": [],
   "source": [
    "my_string  = \" Hello World \""
   ]
  },
  {
   "cell_type": "code",
   "execution_count": null,
   "metadata": {
    "colab": {
     "base_uri": "https://localhost:8080/",
     "height": 35
    },
    "id": "FImlKrX_06wp",
    "outputId": "9f2fb16b-82d2-4dd8-89d5-bf69ab50e46e"
   },
   "outputs": [
    {
     "data": {
      "application/vnd.google.colaboratory.intrinsic+json": {
       "type": "string"
      },
      "text/plain": [
       "'Hello World'"
      ]
     },
     "execution_count": 62,
     "metadata": {},
     "output_type": "execute_result"
    }
   ],
   "source": [
    "output = re.sub(r'^\\s+|\\s+$', '', my_string)\n",
    "output"
   ]
  },
  {
   "cell_type": "code",
   "execution_count": null,
   "metadata": {
    "id": "fKICGGWi1jlx"
   },
   "outputs": [],
   "source": [
    "# This line uses the re.sub() function to perform a substitution on my_string.\n",
    "# re.sub() is a function from the re module that substitutes occurrences of a pattern in a string with a replacement string.\n",
    "# The first argument r'^\\s+|\\s+$' is a regular expression pattern.\n",
    "# ^ asserts the start of the string.\n",
    "# \\s+ matches one or more whitespace characters.\n",
    "# | is an OR operator.\n",
    "# \\s+$ matches one or more whitespace characters at the end of the string.\n",
    "# The second argument '' is the replacement string, in this case, an empty string ''.\n",
    "# The third argument my_string is the input string on which the substitution is performed."
   ]
  },
  {
   "cell_type": "markdown",
   "metadata": {
    "id": "yqV2jplq2AGj"
   },
   "source": [
    "# 26. Python Program to Differentiate Between `del`, `remove`, and `pop` on a List\n",
    "\n",
    "In this example, you will learn to differentiate between **`del`**, **`remove`**, and **`pop`** on a list.\n",
    "\n"
   ]
  },
  {
   "cell_type": "code",
   "execution_count": null,
   "metadata": {
    "colab": {
     "base_uri": "https://localhost:8080/"
    },
    "id": "-od8D9ID1uLO",
    "outputId": "f0c5052a-40be-4d00-b6bd-08f8d042641c"
   },
   "outputs": [
    {
     "data": {
      "text/plain": [
       "[1, 3, 4]"
      ]
     },
     "execution_count": 65,
     "metadata": {},
     "output_type": "execute_result"
    }
   ],
   "source": [
    "my_list = [1, 2, 3, 4]\n",
    "del my_list[1]\n",
    "my_list"
   ]
  },
  {
   "cell_type": "markdown",
   "metadata": {
    "id": "V4XF0NNT2g5i"
   },
   "source": [
    "**Explanation:**\n",
    "\n",
    "**`del`** can delete the entire list with a single statement whereas **`remove()`** and **`pop()`** cannot."
   ]
  },
  {
   "cell_type": "code",
   "execution_count": null,
   "metadata": {
    "id": "Xlh19bMl2Tro"
   },
   "outputs": [],
   "source": [
    "my_list = [1, 2, 3, 4]\n",
    "del my_list"
   ]
  },
  {
   "cell_type": "code",
   "execution_count": null,
   "metadata": {
    "colab": {
     "base_uri": "https://localhost:8080/",
     "height": 141
    },
    "id": "ESUNCAFz2mMO",
    "outputId": "0b92cfda-5592-44e2-c079-89445c1b2bed"
   },
   "outputs": [
    {
     "ename": "NameError",
     "evalue": "name 'my_list' is not defined",
     "output_type": "error",
     "traceback": [
      "\u001b[0;31m---------------------------------------------------------------------------\u001b[0m",
      "\u001b[0;31mNameError\u001b[0m                                 Traceback (most recent call last)",
      "\u001b[0;32m<ipython-input-67-9af163499740>\u001b[0m in \u001b[0;36m<cell line: 1>\u001b[0;34m()\u001b[0m\n\u001b[0;32m----> 1\u001b[0;31m \u001b[0mmy_list\u001b[0m\u001b[0;34m\u001b[0m\u001b[0;34m\u001b[0m\u001b[0m\n\u001b[0m",
      "\u001b[0;31mNameError\u001b[0m: name 'my_list' is not defined"
     ]
    }
   ],
   "source": [
    "my_list # list is deleted"
   ]
  },
  {
   "cell_type": "markdown",
   "metadata": {
    "id": "Ns91M-oi2th6"
   },
   "source": [
    "Moreover, it can also remove a specific range of values, unlike **`remove()`** and **`pop()`**."
   ]
  },
  {
   "cell_type": "code",
   "execution_count": null,
   "metadata": {
    "colab": {
     "base_uri": "https://localhost:8080/"
    },
    "id": "XQo_31yr2nWr",
    "outputId": "3c99e20f-44c3-47f1-aa77-215e65f127d1"
   },
   "outputs": [
    {
     "data": {
      "text/plain": [
       "[1, 2, 3]"
      ]
     },
     "execution_count": 68,
     "metadata": {},
     "output_type": "execute_result"
    }
   ],
   "source": [
    "my_list = [1, 2, 3, 4]\n",
    "del my_list[3:]\n",
    "my_list"
   ]
  },
  {
   "cell_type": "markdown",
   "metadata": {
    "id": "shaY0EiQ249w"
   },
   "source": [
    "### Error mode\n",
    "\n",
    "If the given item is not present in the list, **`del`** gives an **`IndexError`**."
   ]
  },
  {
   "cell_type": "code",
   "execution_count": null,
   "metadata": {
    "colab": {
     "base_uri": "https://localhost:8080/",
     "height": 159
    },
    "id": "bP6PJ_Fl20A4",
    "outputId": "91ea99c7-5d0c-4198-df2c-10bb6de34f6d"
   },
   "outputs": [
    {
     "ename": "IndexError",
     "evalue": "list assignment index out of range",
     "output_type": "error",
     "traceback": [
      "\u001b[0;31m---------------------------------------------------------------------------\u001b[0m",
      "\u001b[0;31mIndexError\u001b[0m                                Traceback (most recent call last)",
      "\u001b[0;32m<ipython-input-69-3b5a714cc036>\u001b[0m in \u001b[0;36m<cell line: 2>\u001b[0;34m()\u001b[0m\n\u001b[1;32m      1\u001b[0m \u001b[0mmy_list\u001b[0m \u001b[0;34m=\u001b[0m \u001b[0;34m[\u001b[0m\u001b[0;36m1\u001b[0m\u001b[0;34m,\u001b[0m \u001b[0;36m2\u001b[0m\u001b[0;34m,\u001b[0m \u001b[0;36m3\u001b[0m\u001b[0;34m,\u001b[0m \u001b[0;36m4\u001b[0m\u001b[0;34m]\u001b[0m\u001b[0;34m\u001b[0m\u001b[0;34m\u001b[0m\u001b[0m\n\u001b[0;32m----> 2\u001b[0;31m \u001b[0;32mdel\u001b[0m \u001b[0mmy_list\u001b[0m\u001b[0;34m[\u001b[0m\u001b[0;36m4\u001b[0m\u001b[0;34m]\u001b[0m\u001b[0;34m\u001b[0m\u001b[0;34m\u001b[0m\u001b[0m\n\u001b[0m",
      "\u001b[0;31mIndexError\u001b[0m: list assignment index out of range"
     ]
    }
   ],
   "source": [
    "my_list = [1, 2, 3, 4]\n",
    "del my_list[4]"
   ]
  },
  {
   "cell_type": "markdown",
   "metadata": {
    "id": "wc3Fr_0v3Lrs"
   },
   "source": [
    "## Use of `remove`\n",
    "\n",
    "**`remove()`** deletes the specified item."
   ]
  },
  {
   "cell_type": "code",
   "execution_count": null,
   "metadata": {
    "id": "AZfo3SUq3Dl8"
   },
   "outputs": [],
   "source": [
    "my_list = [1, 2, 3, 4]"
   ]
  },
  {
   "cell_type": "code",
   "execution_count": null,
   "metadata": {
    "colab": {
     "base_uri": "https://localhost:8080/"
    },
    "id": "tx9uBGWp3TtZ",
    "outputId": "6aa55e4e-6c01-4291-b8b7-3c0fa6a90ddd"
   },
   "outputs": [
    {
     "data": {
      "text/plain": [
       "[1, 3, 4]"
      ]
     },
     "execution_count": 71,
     "metadata": {},
     "output_type": "execute_result"
    }
   ],
   "source": [
    "my_list.remove(2)\n",
    "my_list"
   ]
  },
  {
   "cell_type": "code",
   "execution_count": null,
   "metadata": {
    "colab": {
     "base_uri": "https://localhost:8080/"
    },
    "id": "5BgXbeyE3X_u",
    "outputId": "cf2e5c38-084d-48cb-fad0-2f99fc1c165b"
   },
   "outputs": [
    {
     "data": {
      "text/plain": [
       "[1, 3]"
      ]
     },
     "execution_count": 72,
     "metadata": {},
     "output_type": "execute_result"
    }
   ],
   "source": [
    "my_list.remove(4)\n",
    "my_list"
   ]
  },
  {
   "cell_type": "markdown",
   "metadata": {
    "id": "LO9IHOvN3mCg"
   },
   "source": [
    "### Error mode\n",
    "\n",
    "If the given item is not present in the list, **`del`** gives an **`ValueError`**."
   ]
  },
  {
   "cell_type": "code",
   "execution_count": null,
   "metadata": {
    "id": "I5AokyTy3iz7"
   },
   "outputs": [],
   "source": [
    "my_list = [1, 2, 3, 4]"
   ]
  },
  {
   "cell_type": "code",
   "execution_count": null,
   "metadata": {
    "colab": {
     "base_uri": "https://localhost:8080/",
     "height": 141
    },
    "id": "yZsCXVch3qSg",
    "outputId": "59b3359e-4dfb-4a27-b0bd-7ad7144b09ed"
   },
   "outputs": [
    {
     "ename": "ValueError",
     "evalue": "list.remove(x): x not in list",
     "output_type": "error",
     "traceback": [
      "\u001b[0;31m---------------------------------------------------------------------------\u001b[0m",
      "\u001b[0;31mValueError\u001b[0m                                Traceback (most recent call last)",
      "\u001b[0;32m<ipython-input-75-5948e8cafc71>\u001b[0m in \u001b[0;36m<cell line: 1>\u001b[0;34m()\u001b[0m\n\u001b[0;32m----> 1\u001b[0;31m \u001b[0mmy_list\u001b[0m\u001b[0;34m.\u001b[0m\u001b[0mremove\u001b[0m\u001b[0;34m(\u001b[0m\u001b[0;36m12\u001b[0m\u001b[0;34m)\u001b[0m \u001b[0;31m# If element is not there, it raises ValueError\u001b[0m\u001b[0;34m\u001b[0m\u001b[0;34m\u001b[0m\u001b[0m\n\u001b[0m",
      "\u001b[0;31mValueError\u001b[0m: list.remove(x): x not in list"
     ]
    }
   ],
   "source": [
    "my_list.remove(12) # If element is not there, it raises ValueError"
   ]
  },
  {
   "cell_type": "markdown",
   "metadata": {
    "id": "jpywWZVC33yZ"
   },
   "source": [
    "## Use of `pop`\n",
    "\n",
    "**`pop()`** removes the item at a specified position and returns it."
   ]
  },
  {
   "cell_type": "markdown",
   "metadata": {
    "id": "6EH-wpOFi1sP"
   },
   "source": []
  },
  {
   "cell_type": "code",
   "execution_count": null,
   "metadata": {
    "id": "uNa0Gdu93tyj"
   },
   "outputs": [],
   "source": [
    "my_list = [1, 2, 3, 4]"
   ]
  },
  {
   "cell_type": "code",
   "execution_count": null,
   "metadata": {
    "colab": {
     "base_uri": "https://localhost:8080/"
    },
    "id": "AGY7_t3_3789",
    "outputId": "bda234e6-2f6c-4d3d-ed1c-bff757279c33"
   },
   "outputs": [
    {
     "data": {
      "text/plain": [
       "[1, 2, 4]"
      ]
     },
     "execution_count": 77,
     "metadata": {},
     "output_type": "execute_result"
    }
   ],
   "source": [
    "my_list.pop(2) # removes element from 2nd position\n",
    "my_list"
   ]
  },
  {
   "cell_type": "code",
   "execution_count": null,
   "metadata": {
    "colab": {
     "base_uri": "https://localhost:8080/",
     "height": 159
    },
    "id": "yDfsgLXb3_sK",
    "outputId": "04806619-a256-437d-d6a8-b1617f14dbd2"
   },
   "outputs": [
    {
     "ename": "IndexError",
     "evalue": "pop index out of range",
     "output_type": "error",
     "traceback": [
      "\u001b[0;31m---------------------------------------------------------------------------\u001b[0m",
      "\u001b[0;31mIndexError\u001b[0m                                Traceback (most recent call last)",
      "\u001b[0;32m<ipython-input-78-b4dd782589dc>\u001b[0m in \u001b[0;36m<cell line: 2>\u001b[0;34m()\u001b[0m\n\u001b[1;32m      1\u001b[0m \u001b[0mmy_list\u001b[0m \u001b[0;34m=\u001b[0m \u001b[0;34m[\u001b[0m\u001b[0;36m1\u001b[0m\u001b[0;34m,\u001b[0m \u001b[0;36m2\u001b[0m\u001b[0;34m,\u001b[0m \u001b[0;36m3\u001b[0m\u001b[0;34m,\u001b[0m \u001b[0;36m4\u001b[0m\u001b[0;34m]\u001b[0m\u001b[0;34m\u001b[0m\u001b[0;34m\u001b[0m\u001b[0m\n\u001b[0;32m----> 2\u001b[0;31m \u001b[0mmy_list\u001b[0m\u001b[0;34m.\u001b[0m\u001b[0mpop\u001b[0m\u001b[0;34m(\u001b[0m\u001b[0;36m4\u001b[0m\u001b[0;34m)\u001b[0m\u001b[0;34m\u001b[0m\u001b[0;34m\u001b[0m\u001b[0m\n\u001b[0m",
      "\u001b[0;31mIndexError\u001b[0m: pop index out of range"
     ]
    }
   ],
   "source": [
    "my_list = [1, 2, 3, 4]\n",
    "my_list.pop(4) # raise index error if specified position is not in list"
   ]
  },
  {
   "cell_type": "markdown",
   "metadata": {
    "id": "kdw5vZ4B4b7F"
   },
   "source": [
    "# 27. Python Program to Iterate Through Two Lists in Parallel\n"
   ]
  },
  {
   "cell_type": "code",
   "execution_count": null,
   "metadata": {
    "id": "j6SWN3xG4MYp"
   },
   "outputs": [],
   "source": [
    "l1 = [1, 2, 3, 4, 5]\n",
    "l2 = ['a', 'b', 'c']"
   ]
  },
  {
   "cell_type": "code",
   "execution_count": null,
   "metadata": {
    "colab": {
     "base_uri": "https://localhost:8080/"
    },
    "id": "Z1v5v3GO4le0",
    "outputId": "eb68b3b2-51f5-47e5-a2a2-b2171ce31b08"
   },
   "outputs": [
    {
     "name": "stdout",
     "output_type": "stream",
     "text": [
      "1 a\n",
      "2 b\n",
      "3 c\n"
     ]
    }
   ],
   "source": [
    "for i, j in zip(l1, l2):\n",
    "  print(i, j)"
   ]
  },
  {
   "cell_type": "code",
   "execution_count": null,
   "metadata": {
    "id": "37NNbOxP4v7n"
   },
   "outputs": [],
   "source": [
    "l3 = ['a', 'b', 'c', 'd', 'e']"
   ]
  },
  {
   "cell_type": "code",
   "execution_count": null,
   "metadata": {
    "colab": {
     "base_uri": "https://localhost:8080/"
    },
    "id": "T1tw-CS642Uu",
    "outputId": "0fa878fd-581e-44e0-80ba-073cabd90a4e"
   },
   "outputs": [
    {
     "name": "stdout",
     "output_type": "stream",
     "text": [
      "1 a\n",
      "2 b\n",
      "3 c\n",
      "4 d\n",
      "5 e\n"
     ]
    }
   ],
   "source": [
    "for i,j in zip(l1, l3):\n",
    "  print(i, j)"
   ]
  },
  {
   "cell_type": "markdown",
   "metadata": {
    "id": "SAeFSyOG5A8g"
   },
   "source": [
    "# 28. Python Program to Count the Number of Digits Present In a Number\n"
   ]
  },
  {
   "cell_type": "code",
   "execution_count": null,
   "metadata": {
    "id": "TrlccBDm47Qb"
   },
   "outputs": [],
   "source": [
    "num = 963969\n",
    "count = 0"
   ]
  },
  {
   "cell_type": "code",
   "execution_count": null,
   "metadata": {
    "colab": {
     "base_uri": "https://localhost:8080/"
    },
    "id": "xN0A3vjK5LIG",
    "outputId": "b58240c0-70ab-457c-cebc-67573bf2e53b"
   },
   "outputs": [
    {
     "data": {
      "text/plain": [
       "96396"
      ]
     },
     "execution_count": 85,
     "metadata": {},
     "output_type": "execute_result"
    }
   ],
   "source": [
    "num // 10 # Except last number gives the rest of the number"
   ]
  },
  {
   "cell_type": "code",
   "execution_count": null,
   "metadata": {
    "colab": {
     "base_uri": "https://localhost:8080/"
    },
    "id": "SUG2RrpG5O-j",
    "outputId": "9a46f509-b045-4118-b328-301dccb00eab"
   },
   "outputs": [
    {
     "data": {
      "text/plain": [
       "9639"
      ]
     },
     "execution_count": 86,
     "metadata": {},
     "output_type": "execute_result"
    }
   ],
   "source": [
    "96396 // 10"
   ]
  },
  {
   "cell_type": "code",
   "execution_count": null,
   "metadata": {
    "id": "Aft3GBnZ5SCu"
   },
   "outputs": [],
   "source": [
    "while num != 0:\n",
    "  num = num // 10\n",
    "  count += 1"
   ]
  },
  {
   "cell_type": "code",
   "execution_count": null,
   "metadata": {
    "colab": {
     "base_uri": "https://localhost:8080/"
    },
    "id": "YqLjzc-l5gly",
    "outputId": "bb4200d6-e6bd-4798-fb2f-f0cd6fbc8ffb"
   },
   "outputs": [
    {
     "data": {
      "text/plain": [
       "6"
      ]
     },
     "execution_count": 88,
     "metadata": {},
     "output_type": "execute_result"
    }
   ],
   "source": [
    "count"
   ]
  },
  {
   "cell_type": "code",
   "execution_count": null,
   "metadata": {
    "colab": {
     "base_uri": "https://localhost:8080/"
    },
    "id": "kIWDwIQ35hJm",
    "outputId": "cbb46ee9-07e4-4937-800d-2d83906dc2b9"
   },
   "outputs": [
    {
     "data": {
      "text/plain": [
       "6"
      ]
     },
     "execution_count": 90,
     "metadata": {},
     "output_type": "execute_result"
    }
   ],
   "source": [
    "# using string\n",
    "num = 963969\n",
    "len(str(num))"
   ]
  },
  {
   "cell_type": "markdown",
   "metadata": {
    "id": "dvdpxT-g51Uy"
   },
   "source": [
    "# 29. Python Program to Check If Two Strings are Anagram\n"
   ]
  },
  {
   "cell_type": "code",
   "execution_count": null,
   "metadata": {
    "id": "4LVXJNyR5ntr"
   },
   "outputs": [],
   "source": [
    "str1 = \"Heart\"\n",
    "str2 = \"Earth\""
   ]
  },
  {
   "cell_type": "code",
   "execution_count": null,
   "metadata": {
    "id": "M9bJJxcE6Aad"
   },
   "outputs": [],
   "source": [
    "str1 = str1.lower()\n",
    "str2 = str2.lower()"
   ]
  },
  {
   "cell_type": "code",
   "execution_count": null,
   "metadata": {
    "colab": {
     "base_uri": "https://localhost:8080/"
    },
    "id": "njaKN6Wu6HCB",
    "outputId": "64c61fd4-33b7-4d77-e1be-dca040f094ac"
   },
   "outputs": [
    {
     "name": "stdout",
     "output_type": "stream",
     "text": [
      "Strings are Anagrams\n"
     ]
    }
   ],
   "source": [
    "if(len(str1) == len(str2)):\n",
    "  # sort the strings\n",
    "  sorted_str1 = sorted(str1)\n",
    "  sorted_str2 = sorted(str2)\n",
    "\n",
    "  if sorted_str1 == sorted_str2:\n",
    "    print(\"Strings are Anagrams\")\n",
    "  else:\n",
    "    print(\"Strings are not Anagrams\")"
   ]
  },
  {
   "cell_type": "markdown",
   "metadata": {
    "id": "ONC7Ewyn63Iw"
   },
   "source": [
    "# 30. Python Program to Compute all the Permutation of the String\n",
    "\n"
   ]
  },
  {
   "cell_type": "code",
   "execution_count": null,
   "metadata": {
    "id": "AYRC8c146ouU"
   },
   "outputs": [],
   "source": [
    "input_str = \"eat\""
   ]
  },
  {
   "cell_type": "code",
   "execution_count": null,
   "metadata": {
    "colab": {
     "base_uri": "https://localhost:8080/"
    },
    "id": "PWVCYxifQOkS",
    "outputId": "de69e2be-d4ce-4ece-8352-220022c95592"
   },
   "outputs": [
    {
     "data": {
      "text/plain": [
       "['e', 'a', 't']"
      ]
     },
     "execution_count": 3,
     "metadata": {},
     "output_type": "execute_result"
    }
   ],
   "source": [
    "[c for c in input_str]"
   ]
  },
  {
   "cell_type": "code",
   "execution_count": null,
   "metadata": {
    "id": "ArhNU26BQRkO"
   },
   "outputs": [],
   "source": [
    "# using recursion\n",
    "def get_permutation_recursive(string, i = 0):\n",
    "  if i == len(string):\n",
    "    print(\"\".join(string))\n",
    "\n",
    "  for j in range(i, len(string)):\n",
    "\n",
    "    letters = [c for c in string]\n",
    "\n",
    "    # swap\n",
    "    letters[i], letters[j] = letters[j], letters[i]\n",
    "\n",
    "    get_permutation_recursive(letters, i+1)"
   ]
  },
  {
   "cell_type": "code",
   "execution_count": null,
   "metadata": {
    "colab": {
     "base_uri": "https://localhost:8080/"
    },
    "id": "m9ug4m5yRWXZ",
    "outputId": "301a30b1-4df9-4d77-87df-71081c906b99"
   },
   "outputs": [
    {
     "name": "stdout",
     "output_type": "stream",
     "text": [
      "eat\n",
      "eta\n",
      "aet\n",
      "ate\n",
      "tae\n",
      "tea\n"
     ]
    }
   ],
   "source": [
    "get_permutation_recursive(input_str)"
   ]
  },
  {
   "cell_type": "code",
   "execution_count": null,
   "metadata": {
    "id": "2qsTIwvmRbXw"
   },
   "outputs": [],
   "source": [
    "# get_permutation_recursive(\"rajesh\")"
   ]
  },
  {
   "cell_type": "code",
   "execution_count": null,
   "metadata": {
    "id": "vVv9Dpb0RvOZ"
   },
   "outputs": [],
   "source": [
    "# using itertools\n",
    "from itertools import permutations"
   ]
  },
  {
   "cell_type": "code",
   "execution_count": null,
   "metadata": {
    "colab": {
     "base_uri": "https://localhost:8080/"
    },
    "id": "VkUuZZI9SnCe",
    "outputId": "bca669ba-fa0d-49c4-973e-f277cc0722e1"
   },
   "outputs": [
    {
     "data": {
      "text/plain": [
       "['eat', 'eta', 'aet', 'ate', 'tea', 'tae']"
      ]
     },
     "execution_count": 17,
     "metadata": {},
     "output_type": "execute_result"
    }
   ],
   "source": [
    "words = [''.join(p) for p in permutations('eat')]\n",
    "words"
   ]
  },
  {
   "cell_type": "markdown",
   "metadata": {
    "id": "bZHnry_eTqmW"
   },
   "source": [
    "# 31. Python Program to Count the Number of Occurrence of a Character in String\n"
   ]
  },
  {
   "cell_type": "code",
   "execution_count": null,
   "metadata": {
    "id": "h-Z_uy4_SuAu"
   },
   "outputs": [],
   "source": [
    "my_string = \"Python4DataScience\"\n",
    "my_char = \"a\""
   ]
  },
  {
   "cell_type": "code",
   "execution_count": null,
   "metadata": {
    "colab": {
     "base_uri": "https://localhost:8080/"
    },
    "id": "zbH3pEhDUAue",
    "outputId": "42dc9eb5-4841-4062-8acb-262a963d26f6"
   },
   "outputs": [
    {
     "data": {
      "text/plain": [
       "2"
      ]
     },
     "execution_count": 19,
     "metadata": {},
     "output_type": "execute_result"
    }
   ],
   "source": [
    "# using method count()\n",
    "my_string.count(my_char)"
   ]
  },
  {
   "cell_type": "code",
   "execution_count": null,
   "metadata": {
    "colab": {
     "base_uri": "https://localhost:8080/"
    },
    "id": "Ay3MYFhgUHK8",
    "outputId": "60a53a08-6844-4150-819b-43785fddf764"
   },
   "outputs": [
    {
     "name": "stdout",
     "output_type": "stream",
     "text": [
      "2\n"
     ]
    }
   ],
   "source": [
    "# using for loop\n",
    "count = 0\n",
    "for i in my_string:\n",
    "  if i == my_char:\n",
    "    count += 1\n",
    "print(count)\n"
   ]
  },
  {
   "cell_type": "code",
   "execution_count": null,
   "metadata": {
    "colab": {
     "base_uri": "https://localhost:8080/"
    },
    "id": "cxkZXVZeUaHj",
    "outputId": "5ea65c17-4fad-4028-f885-8428eb316534"
   },
   "outputs": [
    {
     "data": {
      "text/plain": [
       "2"
      ]
     },
     "execution_count": 22,
     "metadata": {},
     "output_type": "execute_result"
    }
   ],
   "source": [
    "# using list comprehension\n",
    "sum([1 for i in my_string if i == my_char])"
   ]
  },
  {
   "cell_type": "markdown",
   "metadata": {
    "id": "N5UKls7cUyFw"
   },
   "source": [
    "# 32. Python Program to Remove Duplicate Element From a List\n"
   ]
  },
  {
   "cell_type": "code",
   "execution_count": null,
   "metadata": {
    "id": "j3fxvxNcUlsh"
   },
   "outputs": [],
   "source": [
    "my_list = [1, 3, 1, 6, 9]"
   ]
  },
  {
   "cell_type": "code",
   "execution_count": null,
   "metadata": {
    "colab": {
     "base_uri": "https://localhost:8080/"
    },
    "id": "Kw4yVUkdVAFO",
    "outputId": "60d01cde-a4fa-494a-d155-48ce26f9ff57"
   },
   "outputs": [
    {
     "data": {
      "text/plain": [
       "[1, 3, 6, 9]"
      ]
     },
     "execution_count": 24,
     "metadata": {},
     "output_type": "execute_result"
    }
   ],
   "source": [
    "# using set()\n",
    "list(set(my_list))"
   ]
  },
  {
   "cell_type": "code",
   "execution_count": null,
   "metadata": {
    "id": "zWbStVwOVEVq"
   },
   "outputs": [],
   "source": [
    "# Example 2: Remove the items that are duplicated\n",
    "l1 = [1, 3, 1, 6, 9]\n",
    "l2 = [7, 5, 2, 8]"
   ]
  },
  {
   "cell_type": "code",
   "execution_count": null,
   "metadata": {
    "colab": {
     "base_uri": "https://localhost:8080/"
    },
    "id": "Vu5SghxqVNJV",
    "outputId": "99297084-eb73-4c9d-e255-065a0633003e"
   },
   "outputs": [
    {
     "data": {
      "text/plain": [
       "[1, 2, 3, 5, 6, 7, 8, 9]"
      ]
     },
     "execution_count": 27,
     "metadata": {},
     "output_type": "execute_result"
    }
   ],
   "source": [
    "list((set(l1) ^ set(l2)))"
   ]
  },
  {
   "cell_type": "markdown",
   "metadata": {
    "id": "ceLs8ugBZSQh"
   },
   "source": [
    "# 33. Python Program to Check Leap Year\n"
   ]
  },
  {
   "cell_type": "markdown",
   "metadata": {
    "id": "OCXugqXPZZZv"
   },
   "source": [
    "A leap year is exactly divisible by 4 except for century years (years ending with 00). The century year is a leap year only if it is perfectly divisible by 400.\n",
    "\n",
    "For example:\n",
    "* 2017 is not a leap year\n",
    "* 1900 is a not leap year\n",
    "* 2012 is a leap year\n",
    "* 2000 is a leap year"
   ]
  },
  {
   "cell_type": "code",
   "execution_count": null,
   "metadata": {
    "id": "HneM1ct8Vu0t"
   },
   "outputs": [],
   "source": [
    "def check_leap_year(year):\n",
    "  if (year % 4) == 0:\n",
    "    if (year % 100) == 0:\n",
    "      if (year % 400) == 0:\n",
    "        print(f\"The year {year} is a leap year\")\n",
    "      else:\n",
    "        print(f\"The year {year} is not a leap year\")\n",
    "    else:\n",
    "      print(f\"The year {year} is not a leap year\")\n",
    "  else:\n",
    "    print(f\"The year {year} is not a leap year\")"
   ]
  },
  {
   "cell_type": "code",
   "execution_count": null,
   "metadata": {
    "colab": {
     "base_uri": "https://localhost:8080/"
    },
    "id": "YOCQUQGDafgb",
    "outputId": "5ac62eea-8191-4415-b143-d482807898c9"
   },
   "outputs": [
    {
     "name": "stdout",
     "output_type": "stream",
     "text": [
      "The year 2022 is not a leap year\n"
     ]
    }
   ],
   "source": [
    "check_leap_year(2022)"
   ]
  },
  {
   "cell_type": "markdown",
   "metadata": {
    "id": "xXvwSjsparRA"
   },
   "source": [
    "if (year % 4) == 0:: This line checks if the given year is divisible by 4 without leaving a remainder. If it is, it could be a leap year because leap years occur every 4 years.\n",
    "\n",
    "if (year % 100) == 0:: If the year is divisible by 4, this line checks if it's also divisible by 100. If it is, it may not be a leap year because century years (years ending in '00') are not leap years unless they are divisible by 400.\n",
    "\n",
    "if (year % 400) == 0:: If the year is divisible by 100, this line checks if it's also divisible by 400. If it is, it is considered a leap year because it meets the exception to the rule applied in step 2."
   ]
  },
  {
   "cell_type": "markdown",
   "metadata": {
    "id": "Wtyz9axda74j"
   },
   "source": [
    "# 34. Python Program to Check Prime Number\n",
    "\n",
    "A positive integer greater than 1 which has no other factors except 1 and the number itself is called a prime number. 2, 3, 5, 7 etc. are prime numbers as they do not have any other factors. But 6 is not prime (it is composite) since, **`2 x 3 = 6`**.\n"
   ]
  },
  {
   "cell_type": "code",
   "execution_count": null,
   "metadata": {
    "id": "S6bNAeI2ain3"
   },
   "outputs": [],
   "source": [
    "# using flag\n",
    "def check_prime_flag(num):\n",
    "  flag = False\n",
    "  # prime number is greater than 1\n",
    "  if num > 1:\n",
    "    # check for factors\n",
    "    for i in range(2, num):\n",
    "      if num % i == 0:\n",
    "        # if its divisible by any number, set flag = true\n",
    "        flag = True\n",
    "        break\n",
    "  return flag"
   ]
  },
  {
   "cell_type": "code",
   "execution_count": null,
   "metadata": {
    "colab": {
     "base_uri": "https://localhost:8080/"
    },
    "id": "eWkoakZ4cZ_1",
    "outputId": "ab569544-ea06-478c-df0d-534a21c50220"
   },
   "outputs": [
    {
     "name": "stdout",
     "output_type": "stream",
     "text": [
      "The number is prime\n"
     ]
    }
   ],
   "source": [
    "if check_prime_flag(2):\n",
    "  print(f\"The number is not prime\")\n",
    "else:\n",
    "  print(\"The number is prime\")"
   ]
  },
  {
   "cell_type": "markdown",
   "metadata": {
    "id": "5O-Wlb0ddMDe"
   },
   "source": [
    "# 35. Python Program to Print all Prime Numbers in an Interval\n"
   ]
  },
  {
   "cell_type": "code",
   "execution_count": null,
   "metadata": {
    "id": "oAkpYhJHgzPN"
   },
   "outputs": [],
   "source": [
    "def check_prime(num):\n",
    "  flag = False\n",
    "  # prime number is greater than 1\n",
    "  if num > 1:\n",
    "    # check for factors\n",
    "    for i in range(2, num):\n",
    "      if num % i == 0:\n",
    "        flag = True\n",
    "        break\n",
    "  return flag"
   ]
  },
  {
   "cell_type": "code",
   "execution_count": null,
   "metadata": {
    "colab": {
     "base_uri": "https://localhost:8080/"
    },
    "id": "d_P2aTZ_h07x",
    "outputId": "5ed0b987-8161-4294-eef0-a059819fa8b4"
   },
   "outputs": [
    {
     "data": {
      "text/plain": [
       "False"
      ]
     },
     "execution_count": 51,
     "metadata": {},
     "output_type": "execute_result"
    }
   ],
   "source": [
    "check_prime(7)"
   ]
  },
  {
   "cell_type": "code",
   "execution_count": null,
   "metadata": {
    "id": "bklJZV-hh2wz"
   },
   "outputs": [],
   "source": [
    "lower = 100\n",
    "upper = 200\n",
    "def get_primes_in_interval(lower, upper):\n",
    "  prime_list = []\n",
    "  for i in range(lower, upper+1):\n",
    "    if not check_prime(i):\n",
    "      prime_list.append(i)\n",
    "  return prime_list"
   ]
  },
  {
   "cell_type": "code",
   "execution_count": null,
   "metadata": {
    "colab": {
     "base_uri": "https://localhost:8080/"
    },
    "id": "Gjk1_ryyiV5L",
    "outputId": "ea0c2270-46b8-4412-ce6a-c277d7af63b0"
   },
   "outputs": [
    {
     "data": {
      "text/plain": [
       "[101,\n",
       " 103,\n",
       " 107,\n",
       " 109,\n",
       " 113,\n",
       " 127,\n",
       " 131,\n",
       " 137,\n",
       " 139,\n",
       " 149,\n",
       " 151,\n",
       " 157,\n",
       " 163,\n",
       " 167,\n",
       " 173,\n",
       " 179,\n",
       " 181,\n",
       " 191,\n",
       " 193,\n",
       " 197,\n",
       " 199]"
      ]
     },
     "execution_count": 55,
     "metadata": {},
     "output_type": "execute_result"
    }
   ],
   "source": [
    "get_primes_in_interval(lower, upper)"
   ]
  },
  {
   "cell_type": "markdown",
   "metadata": {
    "id": "NM1osdpSi71p"
   },
   "source": [
    "# 36. Python Program to Find the Factorial of a Number\n",
    "\n",
    "The factorial of a number is the product of all the integers from 1 to that number.\n",
    "\n",
    "For example, the factorial of 6 is **`1*2*3*4*5*6 = 720`**. Factorial is not defined for negative numbers, and the factorial of zero is one, **`0! = 1`**.\n"
   ]
  },
  {
   "cell_type": "code",
   "execution_count": null,
   "metadata": {
    "colab": {
     "base_uri": "https://localhost:8080/"
    },
    "id": "10kzWaU7iY4O",
    "outputId": "e74e88f0-b6b6-48d7-ed2f-3a4fc202f893"
   },
   "outputs": [
    {
     "name": "stdout",
     "output_type": "stream",
     "text": [
      "The Factorial for the number 6 is 720\n"
     ]
    }
   ],
   "source": [
    "num = 6\n",
    "factorial = 1\n",
    "\n",
    "if num < 0:\n",
    "  print(\"Sorry Factorial doesn't exist for the Negative numbers\")\n",
    "elif num == 0:\n",
    "  print(\"The Factorial of 0 is 1\")\n",
    "else:\n",
    "  for i in range(1, num+1):\n",
    "    factorial = factorial*i\n",
    "  print(f\"The Factorial for the number {num} is {factorial}\")"
   ]
  },
  {
   "cell_type": "code",
   "execution_count": null,
   "metadata": {
    "id": "3my0AwyPjoO3"
   },
   "outputs": [],
   "source": [
    "# using method - iterative\n",
    "def factorial_iterative(num):\n",
    "  result = 1\n",
    "  if num < 0:\n",
    "    return \"Factorial doesn't exist for negative numbers\"\n",
    "  elif num == 0:\n",
    "    return \"Factorial for 0 is 1\"\n",
    "  else:\n",
    "    for i in range(1, num+1):\n",
    "      result *= i\n",
    "    return result"
   ]
  },
  {
   "cell_type": "code",
   "execution_count": null,
   "metadata": {
    "colab": {
     "base_uri": "https://localhost:8080/"
    },
    "id": "FYyoU2mBkeFC",
    "outputId": "30104bb8-89ef-43e3-91d0-d99fcd8220f9"
   },
   "outputs": [
    {
     "data": {
      "text/plain": [
       "720"
      ]
     },
     "execution_count": 58,
     "metadata": {},
     "output_type": "execute_result"
    }
   ],
   "source": [
    "factorial_iterative(6)"
   ]
  },
  {
   "cell_type": "code",
   "execution_count": null,
   "metadata": {
    "colab": {
     "base_uri": "https://localhost:8080/"
    },
    "id": "V-GHkxi0kfpr",
    "outputId": "c7241639-c746-4ae3-aced-049e1902d39f"
   },
   "outputs": [
    {
     "data": {
      "text/plain": [
       "5040"
      ]
     },
     "execution_count": 59,
     "metadata": {},
     "output_type": "execute_result"
    }
   ],
   "source": [
    "factorial_iterative(7)"
   ]
  },
  {
   "cell_type": "code",
   "execution_count": null,
   "metadata": {
    "colab": {
     "base_uri": "https://localhost:8080/",
     "height": 35
    },
    "id": "pXXcGkrmkhar",
    "outputId": "070b6851-7fb1-4bab-cb78-d0602de1f223"
   },
   "outputs": [
    {
     "data": {
      "application/vnd.google.colaboratory.intrinsic+json": {
       "type": "string"
      },
      "text/plain": [
       "'Factorial for 0 is 1'"
      ]
     },
     "execution_count": 60,
     "metadata": {},
     "output_type": "execute_result"
    }
   ],
   "source": [
    "factorial_iterative(0)"
   ]
  },
  {
   "cell_type": "code",
   "execution_count": null,
   "metadata": {
    "colab": {
     "base_uri": "https://localhost:8080/",
     "height": 35
    },
    "id": "1pfg_6fwkinu",
    "outputId": "b235dcc0-56c4-4bb4-c468-a72bfee5fc33"
   },
   "outputs": [
    {
     "data": {
      "application/vnd.google.colaboratory.intrinsic+json": {
       "type": "string"
      },
      "text/plain": [
       "\"Factorial doesn't exist for negative numbers\""
      ]
     },
     "execution_count": 61,
     "metadata": {},
     "output_type": "execute_result"
    }
   ],
   "source": [
    "factorial_iterative(-1)"
   ]
  },
  {
   "cell_type": "code",
   "execution_count": null,
   "metadata": {
    "id": "0foCUrO9kkYr"
   },
   "outputs": [],
   "source": [
    "# using recursive\n",
    "def factorial_recursive(n):\n",
    "  if n == 0:\n",
    "    return 1\n",
    "  else:\n",
    "    return n * factorial_recursive(n-1)"
   ]
  },
  {
   "cell_type": "code",
   "execution_count": null,
   "metadata": {
    "colab": {
     "base_uri": "https://localhost:8080/"
    },
    "id": "7DqEXQ1ylNl1",
    "outputId": "4e22c240-84b7-4016-d318-d9da41be6239"
   },
   "outputs": [
    {
     "data": {
      "text/plain": [
       "720"
      ]
     },
     "execution_count": 63,
     "metadata": {},
     "output_type": "execute_result"
    }
   ],
   "source": [
    "factorial_recursive(6)"
   ]
  },
  {
   "cell_type": "markdown",
   "metadata": {
    "id": "-b7jtOK1lnBc"
   },
   "source": [
    "# 37. Python Program to Display the multiplication Table\n"
   ]
  },
  {
   "cell_type": "code",
   "execution_count": null,
   "metadata": {
    "id": "aBnEHaQ3lQa4"
   },
   "outputs": [],
   "source": [
    "def get_multiply_table(n):\n",
    "  for i in range(1,11):\n",
    "    print(f\"{n} * {i} = {n*i}\")"
   ]
  },
  {
   "cell_type": "code",
   "execution_count": null,
   "metadata": {
    "colab": {
     "base_uri": "https://localhost:8080/"
    },
    "id": "f39pi-EjmKwC",
    "outputId": "76d38bad-a4e7-481d-dd45-2c03864bc5df"
   },
   "outputs": [
    {
     "name": "stdout",
     "output_type": "stream",
     "text": [
      "15 * 1 = 15\n",
      "15 * 2 = 30\n",
      "15 * 3 = 45\n",
      "15 * 4 = 60\n",
      "15 * 5 = 75\n",
      "15 * 6 = 90\n",
      "15 * 7 = 105\n",
      "15 * 8 = 120\n",
      "15 * 9 = 135\n",
      "15 * 10 = 150\n"
     ]
    }
   ],
   "source": [
    "get_multiply_table(15)"
   ]
  },
  {
   "cell_type": "code",
   "execution_count": null,
   "metadata": {
    "colab": {
     "base_uri": "https://localhost:8080/"
    },
    "id": "4lqk8LtUmNBY",
    "outputId": "500ad8e6-e853-49bb-db1e-90a9ae20491d"
   },
   "outputs": [
    {
     "name": "stdout",
     "output_type": "stream",
     "text": [
      "19 * 1 = 19\n",
      "19 * 2 = 38\n",
      "19 * 3 = 57\n",
      "19 * 4 = 76\n",
      "19 * 5 = 95\n",
      "19 * 6 = 114\n",
      "19 * 7 = 133\n",
      "19 * 8 = 152\n",
      "19 * 9 = 171\n",
      "19 * 10 = 190\n"
     ]
    }
   ],
   "source": [
    "get_multiply_table(19)"
   ]
  },
  {
   "cell_type": "markdown",
   "metadata": {
    "id": "Dng8zpgRbibz"
   },
   "source": [
    "# 38. Python Program to Print the Fibonacci sequence\n"
   ]
  },
  {
   "cell_type": "code",
   "execution_count": 1,
   "metadata": {
    "id": "pLwY5W5LhEAp"
   },
   "outputs": [],
   "source": [
    "# brute force way\n",
    "nterms = 8\n",
    "n1 = 0\n",
    "n2 = 1\n",
    "count = 0"
   ]
  },
  {
   "cell_type": "code",
   "execution_count": 2,
   "metadata": {
    "colab": {
     "base_uri": "https://localhost:8080/"
    },
    "id": "XFQjUDHBhMz2",
    "outputId": "48e7fd98-0540-47f5-b9e5-c8bed522e5d4"
   },
   "outputs": [
    {
     "name": "stdout",
     "output_type": "stream",
     "text": [
      "0\n",
      "1\n",
      "1\n",
      "2\n",
      "3\n",
      "5\n",
      "8\n",
      "13\n"
     ]
    }
   ],
   "source": [
    "if nterms <= 0:\n",
    "  print(\"Please enter positive number\")\n",
    "elif nterms == 1:\n",
    "  print(f\"Fibonaaci series for {nterms} is : {n1}\")\n",
    "else:\n",
    "  while count < nterms:\n",
    "    print(n1)\n",
    "    nth = n1 + n2\n",
    "    n1 = n2\n",
    "    n2 = nth\n",
    "    count += 1"
   ]
  },
  {
   "cell_type": "code",
   "execution_count": 3,
   "metadata": {
    "id": "s8ogGfrehkpk"
   },
   "outputs": [],
   "source": [
    "# iterative method\n",
    "def fibonaaci_iterative(n):\n",
    "  fib_sequence = [0,1]\n",
    "  for i in range(2, n):\n",
    "    fib_sequence.append(fib_sequence[-1] + fib_sequence[-2])\n",
    "  return fib_sequence"
   ]
  },
  {
   "cell_type": "code",
   "execution_count": 4,
   "metadata": {
    "colab": {
     "base_uri": "https://localhost:8080/"
    },
    "id": "aOww0UkRjFut",
    "outputId": "c57d05c6-8032-4ef3-f886-94cc3411d7f4"
   },
   "outputs": [
    {
     "data": {
      "text/plain": [
       "[0, 1, 1, 2, 3, 5, 8, 13]"
      ]
     },
     "execution_count": 4,
     "metadata": {},
     "output_type": "execute_result"
    }
   ],
   "source": [
    "fibonaaci_iterative(8)"
   ]
  },
  {
   "cell_type": "code",
   "execution_count": 9,
   "metadata": {
    "id": "nbnO4ItcjLon"
   },
   "outputs": [],
   "source": [
    "# using recursive\n",
    "def fib_recursive(n):\n",
    "  if n <= 1:\n",
    "    return n\n",
    "  else:\n",
    "    return fib_recursive(n-1) + fib_recursive(n-2)"
   ]
  },
  {
   "cell_type": "code",
   "execution_count": 10,
   "metadata": {
    "colab": {
     "base_uri": "https://localhost:8080/",
     "height": 193
    },
    "id": "COaPnsi4k81S",
    "outputId": "e07b65d4-7a54-48a2-f088-ba04c4786325"
   },
   "outputs": [
    {
     "data": {
      "text/plain": [
       "[0, 1, 1, 2, 3, 5, 8, 13]"
      ]
     },
     "execution_count": 10,
     "metadata": {},
     "output_type": "execute_result"
    }
   ],
   "source": [
    "[fib_recursive(n) for n in range(8)]"
   ]
  },
  {
   "cell_type": "markdown",
   "metadata": {
    "id": "tgfftZmqlFzh"
   },
   "source": [
    "# 39. Python Program to Check Armstrong Number\n",
    "\n",
    "A positive integer is called an Armstrong number of order **`n`** if\n",
    "\n",
    "```python\n",
    "abcd... = an + bn + cn + dn + ...\n",
    "```\n",
    "\n",
    "In case of an Armstrong number of 3 digits, the sum of cubes of each digit is equal to the number itself. For example:\n",
    "\n",
    "```python\n",
    "153 = 1*1*1 + 5*5*5 + 3*3*3  // 153 is an Armstrong number.\n",
    "```\n"
   ]
  },
  {
   "cell_type": "code",
   "execution_count": 18,
   "metadata": {},
   "outputs": [],
   "source": [
    "num = 153\n",
    "sum = 0"
   ]
  },
  {
   "cell_type": "code",
   "execution_count": 19,
   "metadata": {},
   "outputs": [],
   "source": [
    "temp = num\n",
    "while temp > 0:\n",
    "    digit = temp % 10 # gets last number\n",
    "    sum += digit ** 3\n",
    "    temp = temp // 10 # except last number gives remaining number"
   ]
  },
  {
   "cell_type": "code",
   "execution_count": 20,
   "metadata": {},
   "outputs": [
    {
     "name": "stdout",
     "output_type": "stream",
     "text": [
      "The number 153 is armstrong number\n"
     ]
    }
   ],
   "source": [
    "if sum == num:\n",
    "    print(f\"The number {num} is armstrong number\")\n",
    "else:\n",
    "    print(f\"The number {num} is not armstrong number\")"
   ]
  },
  {
   "cell_type": "code",
   "execution_count": 21,
   "metadata": {},
   "outputs": [],
   "source": [
    "# check num length and pass it dynamically\n",
    "num = 153\n",
    "sum = 0"
   ]
  },
  {
   "cell_type": "code",
   "execution_count": 23,
   "metadata": {},
   "outputs": [
    {
     "data": {
      "text/plain": [
       "3"
      ]
     },
     "execution_count": 23,
     "metadata": {},
     "output_type": "execute_result"
    }
   ],
   "source": [
    "order = len(str(num))\n",
    "order"
   ]
  },
  {
   "cell_type": "code",
   "execution_count": 24,
   "metadata": {},
   "outputs": [],
   "source": [
    "temp = num\n",
    "while temp > 0:\n",
    "    digit = temp % 10\n",
    "    sum += digit ** order\n",
    "    temp = temp // 10"
   ]
  },
  {
   "cell_type": "code",
   "execution_count": 25,
   "metadata": {},
   "outputs": [
    {
     "data": {
      "text/plain": [
       "153"
      ]
     },
     "execution_count": 25,
     "metadata": {},
     "output_type": "execute_result"
    }
   ],
   "source": [
    "sum"
   ]
  },
  {
   "cell_type": "markdown",
   "metadata": {},
   "source": [
    "# 40. Python Program to Find Armstrong Number in an Interval\n"
   ]
  },
  {
   "cell_type": "code",
   "execution_count": 30,
   "metadata": {},
   "outputs": [],
   "source": [
    "lower = 90\n",
    "upper = 1500"
   ]
  },
  {
   "cell_type": "code",
   "execution_count": 31,
   "metadata": {},
   "outputs": [
    {
     "name": "stdout",
     "output_type": "stream",
     "text": [
      "153\n",
      "370\n",
      "371\n",
      "407\n"
     ]
    }
   ],
   "source": [
    "for num in range(lower, upper):\n",
    "    # find order\n",
    "    order = len(str(num))\n",
    "    \n",
    "    # Initialize sum\n",
    "    sum = 0\n",
    "    temp = num\n",
    "    while temp > 0:\n",
    "        digit = temp % 10\n",
    "        sum += digit ** order\n",
    "        temp = temp // 10\n",
    "    \n",
    "    if sum == num:\n",
    "        print(num)"
   ]
  },
  {
   "cell_type": "markdown",
   "metadata": {},
   "source": [
    "# 41. Python Program to Find the Sum of Natural Numbers\n"
   ]
  },
  {
   "cell_type": "code",
   "execution_count": 43,
   "metadata": {},
   "outputs": [],
   "source": [
    "num = 19\n",
    "sum = 0"
   ]
  },
  {
   "cell_type": "code",
   "execution_count": 44,
   "metadata": {},
   "outputs": [],
   "source": [
    "if num < 0:\n",
    "    print(\"Please enter positive number\")\n",
    "else:\n",
    "    while num > 0:\n",
    "        sum += num\n",
    "        num -= 1"
   ]
  },
  {
   "cell_type": "code",
   "execution_count": 45,
   "metadata": {},
   "outputs": [
    {
     "data": {
      "text/plain": [
       "190"
      ]
     },
     "execution_count": 45,
     "metadata": {},
     "output_type": "execute_result"
    }
   ],
   "source": [
    "sum"
   ]
  },
  {
   "cell_type": "markdown",
   "metadata": {},
   "source": [
    ">**Note:** To test the program for a different number, change the value of **`num`**.\n",
    "\n",
    "**Explanation:**\n",
    "\n",
    "Initially, the **`sum`** is initialized to 0. And, the number is stored in variable **`num`**.\n",
    "\n",
    "Then, we used the **`while`** loop to iterate until **`num`** becomes zero. In each iteration of the loop, we have added the **`num`** to **`sum`** and the value of **`num`** is decreased by 1."
   ]
  },
  {
   "cell_type": "markdown",
   "metadata": {},
   "source": [
    "We could have solved the above problem without using a loop by using the following formula.\n",
    "n*(n+1)/2\n",
    "For example, if n = 16, the sum would be (16*17)/2 = 136.\n",
    "Your turn: Modify the above program to find the sum of natural numbers using the formula below."
   ]
  },
  {
   "cell_type": "markdown",
   "metadata": {},
   "source": [
    "# 42. Python Program to Iterate Over Dictionaries Using for Loop\n",
    "\n",
    "In this example, you will learn to iterate over dictionaries using **`for`** loop."
   ]
  },
  {
   "cell_type": "code",
   "execution_count": 46,
   "metadata": {},
   "outputs": [
    {
     "data": {
      "text/plain": [
       "{'a': 'time', 'b': 'money', 'c': 'health'}"
      ]
     },
     "execution_count": 46,
     "metadata": {},
     "output_type": "execute_result"
    }
   ],
   "source": [
    "d = {'a': 'time','b': 'money','c': 'health'}\n",
    "d"
   ]
  },
  {
   "cell_type": "code",
   "execution_count": 47,
   "metadata": {},
   "outputs": [
    {
     "name": "stdout",
     "output_type": "stream",
     "text": [
      "a : time\n",
      "b : money\n",
      "c : health\n"
     ]
    }
   ],
   "source": [
    "# access keys and values using items()\n",
    "for key, value in d.items():\n",
    "    print(f\"{key} : {value}\")"
   ]
  },
  {
   "cell_type": "code",
   "execution_count": 48,
   "metadata": {},
   "outputs": [
    {
     "data": {
      "text/plain": [
       "{'a': 'time', 'b': 'money', 'c': 'health'}"
      ]
     },
     "execution_count": 48,
     "metadata": {},
     "output_type": "execute_result"
    }
   ],
   "source": [
    "# dictionary comprehension\n",
    "{key: value for key, value in d.items()}"
   ]
  },
  {
   "cell_type": "code",
   "execution_count": 50,
   "metadata": {},
   "outputs": [
    {
     "name": "stdout",
     "output_type": "stream",
     "text": [
      "a : time\n",
      "b : money\n",
      "c : health\n"
     ]
    }
   ],
   "source": [
    "# access key and value using items\n",
    "for key in d:\n",
    "    print(f\"{key} : {d[key]}\")"
   ]
  },
  {
   "cell_type": "code",
   "execution_count": 51,
   "metadata": {},
   "outputs": [
    {
     "name": "stdout",
     "output_type": "stream",
     "text": [
      "a\n",
      "b\n",
      "c\n"
     ]
    }
   ],
   "source": [
    "# return keys and values explicitly\n",
    "for key in d.keys():\n",
    "    print(key)"
   ]
  },
  {
   "cell_type": "code",
   "execution_count": 52,
   "metadata": {},
   "outputs": [
    {
     "name": "stdout",
     "output_type": "stream",
     "text": [
      "time\n",
      "money\n",
      "health\n"
     ]
    }
   ],
   "source": [
    "for value in d.values():\n",
    "    print(value)"
   ]
  },
  {
   "cell_type": "markdown",
   "metadata": {},
   "source": [
    "# 43. Python Program to Reverse a Number\n"
   ]
  },
  {
   "cell_type": "code",
   "execution_count": 66,
   "metadata": {},
   "outputs": [],
   "source": [
    "num = 123456789\n",
    "reverse = 0"
   ]
  },
  {
   "cell_type": "code",
   "execution_count": 67,
   "metadata": {},
   "outputs": [],
   "source": [
    "temp = num"
   ]
  },
  {
   "cell_type": "code",
   "execution_count": 69,
   "metadata": {},
   "outputs": [],
   "source": [
    "while temp > 0:\n",
    "    remainder = temp % 10\n",
    "    reverse = reverse * 10 + remainder\n",
    "    temp = temp // 10"
   ]
  },
  {
   "cell_type": "code",
   "execution_count": 70,
   "metadata": {},
   "outputs": [
    {
     "data": {
      "text/plain": [
       "987654321"
      ]
     },
     "execution_count": 70,
     "metadata": {},
     "output_type": "execute_result"
    }
   ],
   "source": [
    "reverse"
   ]
  },
  {
   "cell_type": "code",
   "execution_count": 73,
   "metadata": {},
   "outputs": [
    {
     "data": {
      "text/plain": [
       "987654321"
      ]
     },
     "execution_count": 73,
     "metadata": {},
     "output_type": "execute_result"
    }
   ],
   "source": [
    "# using string slicing\n",
    "int(str(num)[::-1])"
   ]
  },
  {
   "cell_type": "code",
   "execution_count": null,
   "metadata": {},
   "outputs": [],
   "source": []
  }
 ],
 "metadata": {
  "colab": {
   "provenance": []
  },
  "kernelspec": {
   "display_name": "Python 3 (ipykernel)",
   "language": "python",
   "name": "python3"
  },
  "language_info": {
   "codemirror_mode": {
    "name": "ipython",
    "version": 3
   },
   "file_extension": ".py",
   "mimetype": "text/x-python",
   "name": "python",
   "nbconvert_exporter": "python",
   "pygments_lexer": "ipython3",
   "version": "3.11.5"
  }
 },
 "nbformat": 4,
 "nbformat_minor": 1
}
