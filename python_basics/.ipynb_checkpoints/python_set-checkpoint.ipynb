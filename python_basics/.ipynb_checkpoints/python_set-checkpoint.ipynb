{
 "cells": [
  {
   "cell_type": "markdown",
   "id": "8d3f9bee",
   "metadata": {},
   "source": [
    "# Python Set\n",
    "\n",
    "Python set is an unordered collection of unique items. They are commonly used for computing mathematical operations such as union, intersection, difference, and symmetric difference.\n",
    "\n",
    "union - all unique elements in both A and B\n",
    "\n",
    "Intersection - common unique elements to both A and B\n",
    "\n",
    "Difference - Only elements in A , But not in B and intersection elements\n",
    "\n",
    "symmetric difference - Except intersection elements all elements"
   ]
  },
  {
   "cell_type": "markdown",
   "id": "6d17ddcd",
   "metadata": {},
   "source": [
    "Sets are unordered – Items stored in a set aren’t kept in any particular order.\n",
    "\n",
    "Set items are unique – Duplicate items are not allowed.\n",
    "\n",
    "Sets are unindexed – You cannot access set items by referring to an index.\n",
    "\n",
    "Sets are changeable (mutable) – They can be changed in place, can grow and shrink on demand."
   ]
  },
  {
   "cell_type": "code",
   "execution_count": 1,
   "id": "18871945",
   "metadata": {},
   "outputs": [
    {
     "data": {
      "text/plain": [
       "{}"
      ]
     },
     "execution_count": 1,
     "metadata": {},
     "output_type": "execute_result"
    }
   ],
   "source": [
    "# empty set\n",
    "a = {}\n",
    "a"
   ]
  },
  {
   "cell_type": "code",
   "execution_count": 3,
   "id": "682970e4",
   "metadata": {},
   "outputs": [
    {
     "data": {
      "text/plain": [
       "{'blue', 'green', 'red'}"
      ]
     },
     "execution_count": 3,
     "metadata": {},
     "output_type": "execute_result"
    }
   ],
   "source": [
    "# set of strings\n",
    "s = {'red', 'green', 'blue'}\n",
    "s"
   ]
  },
  {
   "cell_type": "code",
   "execution_count": 4,
   "id": "6b42a4c8",
   "metadata": {},
   "outputs": [
    {
     "data": {
      "text/plain": [
       "{(3+4j), 1, 1.23, 'abc'}"
      ]
     },
     "execution_count": 4,
     "metadata": {},
     "output_type": "execute_result"
    }
   ],
   "source": [
    "# mixture of datatypes\n",
    "s = {1, 'abc', 1.23, (3+4j), True}\n",
    "s"
   ]
  },
  {
   "cell_type": "code",
   "execution_count": 5,
   "id": "3585fb66",
   "metadata": {},
   "outputs": [
    {
     "data": {
      "text/plain": [
       "{'blue', 'green', 'red'}"
      ]
     },
     "execution_count": 5,
     "metadata": {},
     "output_type": "execute_result"
    }
   ],
   "source": [
    "# sets don't allow duplicates. They are automatically removed while creation\n",
    "s = {'red', 'green', 'red', 'blue'}\n",
    "s"
   ]
  },
  {
   "cell_type": "markdown",
   "id": "d9c24d0b",
   "metadata": {},
   "source": [
    "A set itself is mutable (changeable), but it cannot contain mutable objects. Therefore, immutable objects like numbers, strings, tuples can be a set item, but lists and dictionaries are mutable, so they cannot be."
   ]
  },
  {
   "cell_type": "code",
   "execution_count": 8,
   "id": "10bcf3e9",
   "metadata": {},
   "outputs": [],
   "source": [
    "s = {1, 'abc', ('a', 'b'), True} # immutable data types like set, string, number, tuple can be added to set"
   ]
  },
  {
   "cell_type": "code",
   "execution_count": 9,
   "id": "44737e0c",
   "metadata": {},
   "outputs": [
    {
     "ename": "TypeError",
     "evalue": "unhashable type: 'list'",
     "output_type": "error",
     "traceback": [
      "\u001b[0;31m---------------------------------------------------------------------------\u001b[0m",
      "\u001b[0;31mTypeError\u001b[0m                                 Traceback (most recent call last)",
      "Cell \u001b[0;32mIn[9], line 1\u001b[0m\n\u001b[0;32m----> 1\u001b[0m s \u001b[38;5;241m=\u001b[39m {[\u001b[38;5;241m1\u001b[39m, \u001b[38;5;241m2\u001b[39m], {\u001b[38;5;124m'\u001b[39m\u001b[38;5;124ma\u001b[39m\u001b[38;5;124m'\u001b[39m:\u001b[38;5;241m1\u001b[39m, \u001b[38;5;124m'\u001b[39m\u001b[38;5;124mb\u001b[39m\u001b[38;5;124m'\u001b[39m:\u001b[38;5;241m2\u001b[39m}} \u001b[38;5;66;03m# We can't mutable datatypes like list and dictionaries in set\u001b[39;00m\n\u001b[1;32m      2\u001b[0m s\n",
      "\u001b[0;31mTypeError\u001b[0m: unhashable type: 'list'"
     ]
    }
   ],
   "source": [
    "s = {[1, 2], {'a':1, 'b':2}} # We can't mutable datatypes like list and dictionaries in set\n",
    "s"
   ]
  },
  {
   "cell_type": "markdown",
   "id": "8475d069",
   "metadata": {},
   "source": [
    "### Set constructor\n",
    "\n",
    "You can also create a set using a type constructor called set()."
   ]
  },
  {
   "cell_type": "code",
   "execution_count": 10,
   "id": "4bb4ec99",
   "metadata": {},
   "outputs": [
    {
     "data": {
      "text/plain": [
       "set()"
      ]
     },
     "execution_count": 10,
     "metadata": {},
     "output_type": "execute_result"
    }
   ],
   "source": [
    "s = set()\n",
    "s"
   ]
  },
  {
   "cell_type": "code",
   "execution_count": 12,
   "id": "72732a70",
   "metadata": {},
   "outputs": [
    {
     "data": {
      "text/plain": [
       "{'d', 'e', 'r'}"
      ]
     },
     "execution_count": 12,
     "metadata": {},
     "output_type": "execute_result"
    }
   ],
   "source": [
    "s = set('red')\n",
    "s"
   ]
  },
  {
   "cell_type": "code",
   "execution_count": 13,
   "id": "ed59f508",
   "metadata": {},
   "outputs": [
    {
     "data": {
      "text/plain": [
       "{'a', 'b', 'c'}"
      ]
     },
     "execution_count": 13,
     "metadata": {},
     "output_type": "execute_result"
    }
   ],
   "source": [
    "s = set('abc')\n",
    "s"
   ]
  },
  {
   "cell_type": "code",
   "execution_count": 14,
   "id": "02e7a3bb",
   "metadata": {},
   "outputs": [
    {
     "data": {
      "text/plain": [
       "{0, 1, 2, 3, 4}"
      ]
     },
     "execution_count": 14,
     "metadata": {},
     "output_type": "execute_result"
    }
   ],
   "source": [
    "s = set(range(5))\n",
    "s"
   ]
  },
  {
   "cell_type": "code",
   "execution_count": 15,
   "id": "2c8d24ae",
   "metadata": {},
   "outputs": [
    {
     "data": {
      "text/plain": [
       "{1, 2, 3}"
      ]
     },
     "execution_count": 15,
     "metadata": {},
     "output_type": "execute_result"
    }
   ],
   "source": [
    "# convert list to set\n",
    "s = set([1,2,3])\n",
    "s"
   ]
  },
  {
   "cell_type": "markdown",
   "id": "5807187e",
   "metadata": {},
   "source": [
    "### Add Items to a Set\n",
    "\n",
    "You can add a single item to a set using add() method."
   ]
  },
  {
   "cell_type": "code",
   "execution_count": 16,
   "id": "46d2a8f7",
   "metadata": {},
   "outputs": [],
   "source": [
    "s = {'red', 'gree', 'yellow'}"
   ]
  },
  {
   "cell_type": "code",
   "execution_count": 17,
   "id": "09441060",
   "metadata": {},
   "outputs": [
    {
     "data": {
      "text/plain": [
       "{'gree', 'red', 'white', 'yellow'}"
      ]
     },
     "execution_count": 17,
     "metadata": {},
     "output_type": "execute_result"
    }
   ],
   "source": [
    "s.add('white')\n",
    "s"
   ]
  },
  {
   "cell_type": "code",
   "execution_count": 18,
   "id": "67ac4ec8",
   "metadata": {},
   "outputs": [
    {
     "data": {
      "text/plain": [
       "{'blue', 'gree', 'orange', 'red', 'white', 'yellow'}"
      ]
     },
     "execution_count": 18,
     "metadata": {},
     "output_type": "execute_result"
    }
   ],
   "source": [
    "# add multiple items to a set using update() method.\n",
    "s.update(['orange', 'blue'])\n",
    "s"
   ]
  },
  {
   "cell_type": "markdown",
   "id": "ab703324",
   "metadata": {},
   "source": [
    "### Remove Items from a Set\n",
    "\n",
    "To remove a single item from a set, use remove() or discard() method."
   ]
  },
  {
   "cell_type": "code",
   "execution_count": 25,
   "id": "f8e1d021",
   "metadata": {},
   "outputs": [],
   "source": [
    "# with remove() method\n",
    "s = {'red', 'green', 'yellow'}"
   ]
  },
  {
   "cell_type": "code",
   "execution_count": 20,
   "id": "d91e3959",
   "metadata": {},
   "outputs": [
    {
     "data": {
      "text/plain": [
       "set"
      ]
     },
     "execution_count": 20,
     "metadata": {},
     "output_type": "execute_result"
    }
   ],
   "source": [
    "type(s)"
   ]
  },
  {
   "cell_type": "code",
   "execution_count": 21,
   "id": "4da1fa5f",
   "metadata": {},
   "outputs": [
    {
     "data": {
      "text/plain": [
       "dict"
      ]
     },
     "execution_count": 21,
     "metadata": {},
     "output_type": "execute_result"
    }
   ],
   "source": [
    "d = {'a':1, 'b':2}\n",
    "type(d)"
   ]
  },
  {
   "cell_type": "code",
   "execution_count": 26,
   "id": "3081cc27",
   "metadata": {},
   "outputs": [
    {
     "data": {
      "text/plain": [
       "{'red', 'yellow'}"
      ]
     },
     "execution_count": 26,
     "metadata": {},
     "output_type": "execute_result"
    }
   ],
   "source": [
    "s.remove('green')\n",
    "s"
   ]
  },
  {
   "cell_type": "code",
   "execution_count": 27,
   "id": "5a2ac6c6",
   "metadata": {},
   "outputs": [],
   "source": [
    "# with discard() method\n",
    "s = {'red', 'green', 'blue'}"
   ]
  },
  {
   "cell_type": "code",
   "execution_count": 30,
   "id": "6525ceb8",
   "metadata": {},
   "outputs": [],
   "source": [
    "s.discard('blue') # discard will not throw error if key is not present"
   ]
  },
  {
   "cell_type": "code",
   "execution_count": 31,
   "id": "f3ffe95e",
   "metadata": {},
   "outputs": [
    {
     "data": {
      "text/plain": [
       "{'green', 'red'}"
      ]
     },
     "execution_count": 31,
     "metadata": {},
     "output_type": "execute_result"
    }
   ],
   "source": [
    "s"
   ]
  },
  {
   "cell_type": "markdown",
   "id": "496da4be",
   "metadata": {},
   "source": [
    "remove() vs discard()\n",
    "\n",
    "Both methods work exactly the same. The only difference is that If specified item is not present in a set:\n",
    "\n",
    "remove() method raises KeyError\n",
    "\n",
    "discard() method does nothing"
   ]
  },
  {
   "cell_type": "markdown",
   "id": "a8631f69",
   "metadata": {},
   "source": [
    "### The pop() method removes random item from a set and returns it."
   ]
  },
  {
   "cell_type": "code",
   "execution_count": 32,
   "id": "6106d6f0",
   "metadata": {},
   "outputs": [
    {
     "data": {
      "text/plain": [
       "{'blue', 'green', 'red'}"
      ]
     },
     "execution_count": 32,
     "metadata": {},
     "output_type": "execute_result"
    }
   ],
   "source": [
    "s = {'red', 'green', 'blue'}\n",
    "s"
   ]
  },
  {
   "cell_type": "code",
   "execution_count": 33,
   "id": "8bed98c6",
   "metadata": {},
   "outputs": [
    {
     "data": {
      "text/plain": [
       "{'blue', 'red'}"
      ]
     },
     "execution_count": 33,
     "metadata": {},
     "output_type": "execute_result"
    }
   ],
   "source": [
    "x = s.pop()\n",
    "s"
   ]
  },
  {
   "cell_type": "code",
   "execution_count": 34,
   "id": "c2900198",
   "metadata": {},
   "outputs": [
    {
     "data": {
      "text/plain": [
       "'green'"
      ]
     },
     "execution_count": 34,
     "metadata": {},
     "output_type": "execute_result"
    }
   ],
   "source": [
    "x # removed element"
   ]
  },
  {
   "cell_type": "markdown",
   "id": "6de133f0",
   "metadata": {},
   "source": [
    "### Use clear() method to remove all items from the set."
   ]
  },
  {
   "cell_type": "code",
   "execution_count": 35,
   "id": "b6462588",
   "metadata": {},
   "outputs": [],
   "source": [
    "s = {'red', 'green', 'blue'}"
   ]
  },
  {
   "cell_type": "code",
   "execution_count": 36,
   "id": "85ded3a1",
   "metadata": {},
   "outputs": [],
   "source": [
    "s.clear() # clears all elements"
   ]
  },
  {
   "cell_type": "code",
   "execution_count": 37,
   "id": "50daf366",
   "metadata": {},
   "outputs": [
    {
     "data": {
      "text/plain": [
       "set()"
      ]
     },
     "execution_count": 37,
     "metadata": {},
     "output_type": "execute_result"
    }
   ],
   "source": [
    "s"
   ]
  },
  {
   "cell_type": "markdown",
   "id": "8ecd32e4",
   "metadata": {},
   "source": [
    "### Find Set Size\n",
    "\n",
    "To find how many items a set has, use len() method."
   ]
  },
  {
   "cell_type": "code",
   "execution_count": 38,
   "id": "d7b0fe9c",
   "metadata": {},
   "outputs": [],
   "source": [
    "s = {'red', 'green', 'yellow'}"
   ]
  },
  {
   "cell_type": "code",
   "execution_count": 39,
   "id": "bd59e56a",
   "metadata": {},
   "outputs": [
    {
     "data": {
      "text/plain": [
       "3"
      ]
     },
     "execution_count": 39,
     "metadata": {},
     "output_type": "execute_result"
    }
   ],
   "source": [
    "len(s)"
   ]
  },
  {
   "cell_type": "markdown",
   "id": "058a2d8b",
   "metadata": {},
   "source": [
    "### Iterate Through a Set\n",
    "\n",
    "To iterate over the items of a set, use a simple for loop."
   ]
  },
  {
   "cell_type": "code",
   "execution_count": 40,
   "id": "c6f9a79e",
   "metadata": {},
   "outputs": [
    {
     "name": "stdout",
     "output_type": "stream",
     "text": [
      "yellow\n",
      "green\n",
      "red\n"
     ]
    }
   ],
   "source": [
    "s = {'red', 'green', 'yellow'}\n",
    "for color in s:\n",
    "    print(color)"
   ]
  },
  {
   "cell_type": "markdown",
   "id": "c3aeb495",
   "metadata": {},
   "source": [
    "### Check if Item Exists in a Set\n",
    "\n",
    "To check if a specific item is present in a set, you can use in and not in operators with if statement."
   ]
  },
  {
   "cell_type": "code",
   "execution_count": 41,
   "id": "f4fe513d",
   "metadata": {},
   "outputs": [],
   "source": [
    "s = {'red', 'green', 'yellow'}"
   ]
  },
  {
   "cell_type": "code",
   "execution_count": 43,
   "id": "7b92c039",
   "metadata": {},
   "outputs": [
    {
     "name": "stdout",
     "output_type": "stream",
     "text": [
      "red is present\n"
     ]
    }
   ],
   "source": [
    "# check for presence\n",
    "if 'red' in s:\n",
    "    print(\"red is present\")\n",
    "else:\n",
    "    print(\"red is not present\")"
   ]
  },
  {
   "cell_type": "code",
   "execution_count": 44,
   "id": "cc5da19f",
   "metadata": {},
   "outputs": [
    {
     "name": "stdout",
     "output_type": "stream",
     "text": [
      "white is not there\n"
     ]
    }
   ],
   "source": [
    "# check for absence\n",
    "if 'white' not in s:\n",
    "    print(\"white is not there\")\n",
    "else:\n",
    "    print(\"white is present\")"
   ]
  },
  {
   "cell_type": "markdown",
   "id": "22c3d5a8",
   "metadata": {},
   "source": [
    "## Set Operations\n",
    "\n",
    "Sets are commonly used for computing mathematical operations such as intersection, union, difference, and symmetric difference."
   ]
  },
  {
   "cell_type": "markdown",
   "id": "595a956b",
   "metadata": {},
   "source": [
    "### Set Union\n",
    "\n",
    "You can perform union on two or more sets using union() method or  |  operator."
   ]
  },
  {
   "cell_type": "code",
   "execution_count": 45,
   "id": "004ca101",
   "metadata": {},
   "outputs": [],
   "source": [
    "s1 = {'red', 'green', 'blue'}\n",
    "s2 = {'yellow', 'red', 'orange'}"
   ]
  },
  {
   "cell_type": "code",
   "execution_count": 47,
   "id": "2162fa8e",
   "metadata": {},
   "outputs": [
    {
     "data": {
      "text/plain": [
       "{'blue', 'green', 'orange', 'red', 'yellow'}"
      ]
     },
     "execution_count": 47,
     "metadata": {},
     "output_type": "execute_result"
    }
   ],
   "source": [
    "# union by operator\n",
    "s1 | s2\n",
    "# give all unique elements from both sets"
   ]
  },
  {
   "cell_type": "code",
   "execution_count": 48,
   "id": "d5c00552",
   "metadata": {},
   "outputs": [
    {
     "data": {
      "text/plain": [
       "{'blue', 'green', 'orange', 'red', 'yellow'}"
      ]
     },
     "execution_count": 48,
     "metadata": {},
     "output_type": "execute_result"
    }
   ],
   "source": [
    "# union by method\n",
    "s1.union(s2)"
   ]
  },
  {
   "cell_type": "markdown",
   "id": "499e3543",
   "metadata": {},
   "source": [
    "### Set Intersection\n",
    "\n",
    "You can perform intersection on two or more sets using intersection() method or  &  operator."
   ]
  },
  {
   "cell_type": "code",
   "execution_count": 49,
   "id": "54acac93",
   "metadata": {},
   "outputs": [],
   "source": [
    "s1 = {'red', 'green', 'blue'}\n",
    "s2 = {'yellow', 'red', 'orange'}"
   ]
  },
  {
   "cell_type": "code",
   "execution_count": 51,
   "id": "542bb660",
   "metadata": {},
   "outputs": [
    {
     "data": {
      "text/plain": [
       "{'red'}"
      ]
     },
     "execution_count": 51,
     "metadata": {},
     "output_type": "execute_result"
    }
   ],
   "source": [
    "# Intersection by operator\n",
    "s1 & s2\n",
    "# gives common elements in both"
   ]
  },
  {
   "cell_type": "code",
   "execution_count": 52,
   "id": "e458dd58",
   "metadata": {},
   "outputs": [
    {
     "data": {
      "text/plain": [
       "{'red'}"
      ]
     },
     "execution_count": 52,
     "metadata": {},
     "output_type": "execute_result"
    }
   ],
   "source": [
    "# by method\n",
    "s1.intersection(s2)"
   ]
  },
  {
   "cell_type": "markdown",
   "id": "4bdca110",
   "metadata": {},
   "source": [
    "### Set Difference\n",
    "\n",
    "You can compute the difference between two or more sets using difference() method or  -  operator."
   ]
  },
  {
   "cell_type": "code",
   "execution_count": 53,
   "id": "8dba48b1",
   "metadata": {},
   "outputs": [],
   "source": [
    "# Set Difference of A and B is the set of all items that are in A but not in B.\n",
    "s1 = {'red', 'green', 'blue'}\n",
    "s2 = {'yellow', 'red', 'orange'}"
   ]
  },
  {
   "cell_type": "code",
   "execution_count": 54,
   "id": "af82b18f",
   "metadata": {},
   "outputs": [
    {
     "data": {
      "text/plain": [
       "{'blue', 'green'}"
      ]
     },
     "execution_count": 54,
     "metadata": {},
     "output_type": "execute_result"
    }
   ],
   "source": [
    "s1 - s2"
   ]
  },
  {
   "cell_type": "code",
   "execution_count": 55,
   "id": "9bcf4032",
   "metadata": {},
   "outputs": [
    {
     "data": {
      "text/plain": [
       "{'blue', 'green'}"
      ]
     },
     "execution_count": 55,
     "metadata": {},
     "output_type": "execute_result"
    }
   ],
   "source": [
    "s1.difference(s2)"
   ]
  },
  {
   "cell_type": "markdown",
   "id": "8b90b97f",
   "metadata": {},
   "source": [
    "### Set Symmetric Difference\n",
    "\n",
    "You can compute symmetric difference between two or more sets using symmetric_difference() method or  ^  operator."
   ]
  },
  {
   "cell_type": "code",
   "execution_count": 56,
   "id": "873f07bb",
   "metadata": {},
   "outputs": [],
   "source": [
    "# Symmetric difference of sets A and B is the set of all elements in either A or B, but not both.\n",
    "s1 = {'red', 'green', 'blue'}\n",
    "s2 = {'yellow', 'red', 'orange'}"
   ]
  },
  {
   "cell_type": "code",
   "execution_count": 57,
   "id": "fa0d3634",
   "metadata": {},
   "outputs": [
    {
     "data": {
      "text/plain": [
       "{'blue', 'green', 'orange', 'yellow'}"
      ]
     },
     "execution_count": 57,
     "metadata": {},
     "output_type": "execute_result"
    }
   ],
   "source": [
    "s1 ^ s2"
   ]
  },
  {
   "cell_type": "code",
   "execution_count": 58,
   "id": "77c7e9eb",
   "metadata": {},
   "outputs": [
    {
     "data": {
      "text/plain": [
       "{'blue', 'green', 'orange', 'yellow'}"
      ]
     },
     "execution_count": 58,
     "metadata": {},
     "output_type": "execute_result"
    }
   ],
   "source": [
    "s1.symmetric_difference(s2)"
   ]
  },
  {
   "cell_type": "markdown",
   "id": "a0564cb8",
   "metadata": {},
   "source": [
    "### Other Set Operations\n",
    "\n",
    "Below is a list of all set operations available in Python."
   ]
  },
  {
   "cell_type": "code",
   "execution_count": 59,
   "id": "be588d64",
   "metadata": {},
   "outputs": [],
   "source": [
    "#  Method\tDescription\n",
    "#  union()\tReturn a new set containing the union of two or more sets\n",
    "#  update()\tModify this set with the union of this set and other sets\n",
    "#  intersection()\tReturns a new set which is the intersection of two or more sets\n",
    "#  intersection_update()\tRemoves the items from this set that are not present in other sets\n",
    "#  difference()\tReturns a new set containing the difference between two or more sets\n",
    "#  difference_update()\tRemoves the items from this set that are also included in another set\n",
    "#  symmetric_difference()\tReturns a new set with the symmetric differences of two or more sets\n",
    "#  symmetric_difference_update()\tModify this set with the symmetric difference of this set and other set\n",
    "#  isdisjoint()\tDetermines whether or not two sets have any elements in common\n",
    "#  issubset()\tDetermines whether one set is a subset of the other\n",
    "#  issuperset()\tDetermines whether one set is a superset of the other"
   ]
  },
  {
   "cell_type": "markdown",
   "id": "3df2cc2c",
   "metadata": {},
   "source": [
    "### Python Frozenset\n",
    "\n",
    "Python provides another built-in type called a frozenset. Frozenset is just like set, only immutable (unchangeable)."
   ]
  },
  {
   "cell_type": "code",
   "execution_count": 63,
   "id": "6c02ff3a",
   "metadata": {},
   "outputs": [
    {
     "data": {
      "text/plain": [
       "frozenset({'blue', 'green', 'red'})"
      ]
     },
     "execution_count": 63,
     "metadata": {},
     "output_type": "execute_result"
    }
   ],
   "source": [
    "# You can create a frozenset using frozenset() method. It freezes the given sequence and makes it unchangeable.\n",
    "fs = frozenset({'red', 'green', 'blue'})\n",
    "fs"
   ]
  },
  {
   "cell_type": "code",
   "execution_count": 64,
   "id": "4c4c30c2",
   "metadata": {},
   "outputs": [
    {
     "data": {
      "text/plain": [
       "3"
      ]
     },
     "execution_count": 64,
     "metadata": {},
     "output_type": "execute_result"
    }
   ],
   "source": [
    "# As frozensets are unchangeable, you can perform non-modifying operations on them.\n",
    "len(fs)"
   ]
  },
  {
   "cell_type": "code",
   "execution_count": 67,
   "id": "27bdac49",
   "metadata": {},
   "outputs": [
    {
     "name": "stdout",
     "output_type": "stream",
     "text": [
      "frozenset({'yellow', 'green', 'red', 'blue'})\n"
     ]
    }
   ],
   "source": [
    "print(fs | {'yellow'})\n"
   ]
  },
  {
   "cell_type": "code",
   "execution_count": 68,
   "id": "83a31e11",
   "metadata": {},
   "outputs": [],
   "source": [
    "# However, methods that attempt to modify a frozenset will raise error.\n",
    "fs = frozenset({'red', 'green', 'blue'})"
   ]
  },
  {
   "cell_type": "code",
   "execution_count": 69,
   "id": "dcfd7cdc",
   "metadata": {},
   "outputs": [
    {
     "ename": "AttributeError",
     "evalue": "'frozenset' object has no attribute 'pop'",
     "output_type": "error",
     "traceback": [
      "\u001b[0;31m---------------------------------------------------------------------------\u001b[0m",
      "\u001b[0;31mAttributeError\u001b[0m                            Traceback (most recent call last)",
      "Cell \u001b[0;32mIn[69], line 1\u001b[0m\n\u001b[0;32m----> 1\u001b[0m \u001b[43mfs\u001b[49m\u001b[38;5;241;43m.\u001b[39;49m\u001b[43mpop\u001b[49m()\n",
      "\u001b[0;31mAttributeError\u001b[0m: 'frozenset' object has no attribute 'pop'"
     ]
    }
   ],
   "source": [
    "fs.pop()"
   ]
  },
  {
   "cell_type": "code",
   "execution_count": 70,
   "id": "f4a67880",
   "metadata": {},
   "outputs": [
    {
     "ename": "AttributeError",
     "evalue": "'frozenset' object has no attribute 'add'",
     "output_type": "error",
     "traceback": [
      "\u001b[0;31m---------------------------------------------------------------------------\u001b[0m",
      "\u001b[0;31mAttributeError\u001b[0m                            Traceback (most recent call last)",
      "Cell \u001b[0;32mIn[70], line 1\u001b[0m\n\u001b[0;32m----> 1\u001b[0m \u001b[43mfs\u001b[49m\u001b[38;5;241;43m.\u001b[39;49m\u001b[43madd\u001b[49m(\u001b[38;5;124m'\u001b[39m\u001b[38;5;124myellow\u001b[39m\u001b[38;5;124m'\u001b[39m)\n",
      "\u001b[0;31mAttributeError\u001b[0m: 'frozenset' object has no attribute 'add'"
     ]
    }
   ],
   "source": [
    "fs.add('yellow')"
   ]
  },
  {
   "cell_type": "markdown",
   "id": "19bf1702",
   "metadata": {},
   "source": [
    "Unlike sets, frozensets are unchangeable so they can be used as keys to a dictionary.\n",
    "\n",
    "For example, D = {frozenset(['dev','mgr']):'Bob'}"
   ]
  },
  {
   "cell_type": "markdown",
   "id": "2ceafcea",
   "metadata": {},
   "source": [
    "### Built-in Functions with Set\n",
    "\n",
    "Below is a list of all built-in functions that you can use with set objects."
   ]
  },
  {
   "cell_type": "code",
   "execution_count": null,
   "id": "5f93a601",
   "metadata": {},
   "outputs": [],
   "source": [
    "#  Method\tDescription\n",
    "#  all()\tReturns True if all items in a set are true\n",
    "#  any()\tReturns True if any item in a set is true\n",
    "#  enumerate()\tTakes a set and returns an enumerate object\n",
    "#  len()\tReturns the number of items in the set\n",
    "#  max()\tReturns the largest item of the set\n",
    "#  min()\tReturns the smallest item of the set\n",
    "#  sorted()\tReturns a sorted set\n",
    "#  sum()\tSums items of the set"
   ]
  }
 ],
 "metadata": {
  "kernelspec": {
   "display_name": "Python [conda env:ml]",
   "language": "python",
   "name": "conda-env-ml-py"
  },
  "language_info": {
   "codemirror_mode": {
    "name": "ipython",
    "version": 3
   },
   "file_extension": ".py",
   "mimetype": "text/x-python",
   "name": "python",
   "nbconvert_exporter": "python",
   "pygments_lexer": "ipython3",
   "version": "3.12.0"
  }
 },
 "nbformat": 4,
 "nbformat_minor": 5
}
